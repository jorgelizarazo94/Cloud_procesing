{
 "cells": [
  {
   "cell_type": "markdown",
   "id": "bb3b1e81",
   "metadata": {},
   "source": [
    "# **Entrega Parcial Procesamiento en la Nube **\"\n",
    "[Jorge Lizarazo](https://www.researchgate.net/profile/Jorge-Lizarazo-Borrero) &\n",
    "[Leandro León Arce](https://www.linkedin.com/in/leandro-le%C3%B3n-arce-28b98a9/)\n",
    "\n",
    "<div style=\"text-align: right\"> \n",
    "**15/03/2024**\n",
    "Proyecto creado como nota parcial en la materia de Procesamiento en la Nube de la Universidad Icesi\n",
    "Evaluada por el Porfesor [Daniel Amariles](https://www.linkedin.com/in/danipilze/)\n",
    " </div>\n",
    "\n",
    "## Introduction\n",
    "<div style=\"text-align: right\"> \n",
    "Utilizando los datos recopilados a través de redes de niebla entre los años 2015 y 2019 en el \n",
    "Cerro Montezuma, área adyacente al Parque Nacional Natural Tatamá, llevamos a cabo un proceso de \n",
    "extracción de información. Este proceso implicó el análisis de varios conjuntos de datos raster,\n",
    "incluyendo aquellos de WorldClim 30seg y Hansen GFC (2022 - treecover200), junto con su \n",
    "recorte mediante un archivo shapefile de tipo polígono con un buffer alrededor del área de \n",
    "reserva (disponible en el enlace de GitHub proporcionado). Posteriormente, fusionamos dos bases\n",
    "de datos: una con información de campo y otra con datos extraídos de los raster. Realizamos una \n",
    "limpieza exhaustiva de los datos para homogeneizar nombres de especies, eliminar información\n",
    "superflua y estandarizar formatos. Utilizando análisis de componentes principales (PCA), \n",
    "determinamos el número mínimo de componentes necesario para representar el 90% de los datos. \n",
    "Luego, mediante el algoritmo de agrupamiento K-means, identificamos qué especies se agrupaban \n",
    "en qué comunidades, dividiendo así el conjunto en tres comunidades distintas. Finalmente, \n",
    "entrenamos un modelo de XGBoost para predecir a qué comunidad pertenecerían las especies a \n",
    "partir de los datos extraídos de los raster. Trasladamos este modelo a un escenario geográfico\n",
    "y generamos distribuciones o regiones ideales para cada comunidad de aves en el área del \n",
    "PNN Tatamá y su zona circundante.\n",
    " \n",
    "   \n",
    "</div>\n",
    "\n",
    "\n"
   ]
  },
  {
   "cell_type": "code",
   "execution_count": 1,
   "id": "c0256b17",
   "metadata": {},
   "outputs": [
    {
     "data": {
      "text/plain": [
       "'C:\\\\Users\\\\ASUS\\\\anaconda3\\\\envs\\\\pyspark-en\\\\Lib\\\\site-packages\\\\pyspark'"
      ]
     },
     "execution_count": 1,
     "metadata": {},
     "output_type": "execute_result"
    }
   ],
   "source": [
    "import findspark\n",
    "findspark.init()\n",
    "findspark.find()\n"
   ]
  },
  {
   "cell_type": "code",
   "execution_count": 2,
   "id": "a41cc973-c561-4c99-84e0-b8d380d34599",
   "metadata": {},
   "outputs": [
    {
     "data": {
      "text/html": [
       "<div>\n",
       "<style scoped>\n",
       "    .dataframe tbody tr th:only-of-type {\n",
       "        vertical-align: middle;\n",
       "    }\n",
       "\n",
       "    .dataframe tbody tr th {\n",
       "        vertical-align: top;\n",
       "    }\n",
       "\n",
       "    .dataframe thead th {\n",
       "        text-align: right;\n",
       "    }\n",
       "</style>\n",
       "<table border=\"1\" class=\"dataframe\">\n",
       "  <thead>\n",
       "    <tr style=\"text-align: right;\">\n",
       "      <th></th>\n",
       "      <th>Entrada</th>\n",
       "      <th>Station</th>\n",
       "      <th>Date</th>\n",
       "      <th>Year</th>\n",
       "      <th>month</th>\n",
       "      <th>Day</th>\n",
       "      <th>ID</th>\n",
       "      <th>Station</th>\n",
       "      <th>net</th>\n",
       "      <th>N:</th>\n",
       "      <th>...</th>\n",
       "      <th>Photos</th>\n",
       "      <th>Blood</th>\n",
       "      <th>Parasite</th>\n",
       "      <th>F-Chamber M.</th>\n",
       "      <th>Feather</th>\n",
       "      <th>Notes_Bird</th>\n",
       "      <th>Num_Colect</th>\n",
       "      <th>replica</th>\n",
       "      <th>Anillador</th>\n",
       "      <th>Notes_General</th>\n",
       "    </tr>\n",
       "  </thead>\n",
       "  <tbody>\n",
       "    <tr>\n",
       "      <th>0</th>\n",
       "      <td>621</td>\n",
       "      <td>Tatama</td>\n",
       "      <td>25-Feb-14</td>\n",
       "      <td>2014</td>\n",
       "      <td>Feb</td>\n",
       "      <td>25</td>\n",
       "      <td>1</td>\n",
       "      <td>TA01</td>\n",
       "      <td>NaN</td>\n",
       "      <td>NaN</td>\n",
       "      <td>...</td>\n",
       "      <td>no</td>\n",
       "      <td>NaN</td>\n",
       "      <td>NaN</td>\n",
       "      <td>NaN</td>\n",
       "      <td>Y</td>\n",
       "      <td>Muestras de plumas R4 y 2P, Marca R5</td>\n",
       "      <td>NaN</td>\n",
       "      <td>NaN</td>\n",
       "      <td>NaN</td>\n",
       "      <td>NaN</td>\n",
       "    </tr>\n",
       "    <tr>\n",
       "      <th>1</th>\n",
       "      <td>622</td>\n",
       "      <td>Tatama</td>\n",
       "      <td>25-Feb-14</td>\n",
       "      <td>2014</td>\n",
       "      <td>Feb</td>\n",
       "      <td>25</td>\n",
       "      <td>2</td>\n",
       "      <td>TA01</td>\n",
       "      <td>NaN</td>\n",
       "      <td>NaN</td>\n",
       "      <td>...</td>\n",
       "      <td>no</td>\n",
       "      <td>NaN</td>\n",
       "      <td>NaN</td>\n",
       "      <td>NaN</td>\n",
       "      <td>Y</td>\n",
       "      <td>Muestras 2pecho y 7 rectrices; primarias 1 y 2...</td>\n",
       "      <td>NaN</td>\n",
       "      <td>NaN</td>\n",
       "      <td>NaN</td>\n",
       "      <td>NaN</td>\n",
       "    </tr>\n",
       "  </tbody>\n",
       "</table>\n",
       "<p>2 rows × 70 columns</p>\n",
       "</div>"
      ],
      "text/plain": [
       "   Entrada Station        Date  Year month  Day ID Station  net  N:  ...  \\\n",
       "0      621   Tatama  25-Feb-14  2014   Feb   25  1    TA01  NaN NaN  ...   \n",
       "1      622   Tatama  25-Feb-14  2014   Feb   25  2    TA01  NaN NaN  ...   \n",
       "\n",
       "   Photos  Blood  Parasite F-Chamber M. Feather  \\\n",
       "0      no    NaN       NaN          NaN       Y   \n",
       "1      no    NaN       NaN          NaN       Y   \n",
       "\n",
       "                                          Notes_Bird Num_Colect replica  \\\n",
       "0               Muestras de plumas R4 y 2P, Marca R5        NaN     NaN   \n",
       "1  Muestras 2pecho y 7 rectrices; primarias 1 y 2...        NaN     NaN   \n",
       "\n",
       "  Anillador Notes_General  \n",
       "0       NaN           NaN  \n",
       "1       NaN           NaN  \n",
       "\n",
       "[2 rows x 70 columns]"
      ]
     },
     "execution_count": 2,
     "metadata": {},
     "output_type": "execute_result"
    }
   ],
   "source": [
    "## Solo para ver la cosa general con pandas \n",
    "import pandas as pd\n",
    "#df = pd.read_csv('Data_ColombiaGradientes_JFCO.csv', sep=',')\n",
    "#df.head(2)"
   ]
  },
  {
   "cell_type": "code",
   "execution_count": 3,
   "id": "c752dd88-94af-407e-8713-fa36bbd7273a",
   "metadata": {},
   "outputs": [
    {
     "data": {
      "text/html": [
       "<div>\n",
       "<style scoped>\n",
       "    .dataframe tbody tr th:only-of-type {\n",
       "        vertical-align: middle;\n",
       "    }\n",
       "\n",
       "    .dataframe tbody tr th {\n",
       "        vertical-align: top;\n",
       "    }\n",
       "\n",
       "    .dataframe thead th {\n",
       "        text-align: right;\n",
       "    }\n",
       "</style>\n",
       "<table border=\"1\" class=\"dataframe\">\n",
       "  <thead>\n",
       "    <tr style=\"text-align: right;\">\n",
       "      <th></th>\n",
       "      <th>Estacion</th>\n",
       "      <th>Latitud</th>\n",
       "      <th>Longitud</th>\n",
       "      <th>clipped_Hansen_GFC-2022-v1.10_lossyear_10N_080W</th>\n",
       "      <th>clipped_Hansen_GFC-2022-v1.10_treecover2000_10N_080W</th>\n",
       "      <th>resampled_clipped_wc2.1_30s_bio_1</th>\n",
       "      <th>resampled_clipped_wc2.1_30s_bio_10</th>\n",
       "      <th>resampled_clipped_wc2.1_30s_bio_11</th>\n",
       "      <th>resampled_clipped_wc2.1_30s_bio_12</th>\n",
       "      <th>resampled_clipped_wc2.1_30s_bio_13</th>\n",
       "      <th>...</th>\n",
       "      <th>resampled_clipped_wc2.1_30s_bio_19</th>\n",
       "      <th>resampled_clipped_wc2.1_30s_bio_2</th>\n",
       "      <th>resampled_clipped_wc2.1_30s_bio_3</th>\n",
       "      <th>resampled_clipped_wc2.1_30s_bio_4</th>\n",
       "      <th>resampled_clipped_wc2.1_30s_bio_5</th>\n",
       "      <th>resampled_clipped_wc2.1_30s_bio_6</th>\n",
       "      <th>resampled_clipped_wc2.1_30s_bio_7</th>\n",
       "      <th>resampled_clipped_wc2.1_30s_bio_8</th>\n",
       "      <th>resampled_clipped_wc2.1_30s_bio_9</th>\n",
       "      <th>resampled_clipped_wc2.1_30s_elev</th>\n",
       "    </tr>\n",
       "  </thead>\n",
       "  <tbody>\n",
       "    <tr>\n",
       "      <th>0</th>\n",
       "      <td>TA01</td>\n",
       "      <td>5.223194</td>\n",
       "      <td>-76.080167</td>\n",
       "      <td>0</td>\n",
       "      <td>45</td>\n",
       "      <td>19.033333</td>\n",
       "      <td>19.383333</td>\n",
       "      <td>18.8</td>\n",
       "      <td>2965.0</td>\n",
       "      <td>416.0</td>\n",
       "      <td>...</td>\n",
       "      <td>970.0</td>\n",
       "      <td>7.816667</td>\n",
       "      <td>90.89148</td>\n",
       "      <td>23.580935</td>\n",
       "      <td>23.3</td>\n",
       "      <td>14.7</td>\n",
       "      <td>8.599999</td>\n",
       "      <td>18.8</td>\n",
       "      <td>18.983334</td>\n",
       "      <td>1493</td>\n",
       "    </tr>\n",
       "    <tr>\n",
       "      <th>1</th>\n",
       "      <td>TA2</td>\n",
       "      <td>5.223056</td>\n",
       "      <td>-76.078000</td>\n",
       "      <td>0</td>\n",
       "      <td>95</td>\n",
       "      <td>19.033333</td>\n",
       "      <td>19.383333</td>\n",
       "      <td>18.8</td>\n",
       "      <td>2965.0</td>\n",
       "      <td>416.0</td>\n",
       "      <td>...</td>\n",
       "      <td>970.0</td>\n",
       "      <td>7.816667</td>\n",
       "      <td>90.89148</td>\n",
       "      <td>23.580935</td>\n",
       "      <td>23.3</td>\n",
       "      <td>14.7</td>\n",
       "      <td>8.599999</td>\n",
       "      <td>18.8</td>\n",
       "      <td>18.983334</td>\n",
       "      <td>1493</td>\n",
       "    </tr>\n",
       "  </tbody>\n",
       "</table>\n",
       "<p>2 rows × 25 columns</p>\n",
       "</div>"
      ],
      "text/plain": [
       "  Estacion   Latitud   Longitud  \\\n",
       "0     TA01  5.223194 -76.080167   \n",
       "1      TA2  5.223056 -76.078000   \n",
       "\n",
       "   clipped_Hansen_GFC-2022-v1.10_lossyear_10N_080W  \\\n",
       "0                                                0   \n",
       "1                                                0   \n",
       "\n",
       "   clipped_Hansen_GFC-2022-v1.10_treecover2000_10N_080W  \\\n",
       "0                                                 45      \n",
       "1                                                 95      \n",
       "\n",
       "   resampled_clipped_wc2.1_30s_bio_1  resampled_clipped_wc2.1_30s_bio_10  \\\n",
       "0                          19.033333                           19.383333   \n",
       "1                          19.033333                           19.383333   \n",
       "\n",
       "   resampled_clipped_wc2.1_30s_bio_11  resampled_clipped_wc2.1_30s_bio_12  \\\n",
       "0                                18.8                              2965.0   \n",
       "1                                18.8                              2965.0   \n",
       "\n",
       "   resampled_clipped_wc2.1_30s_bio_13  ...  \\\n",
       "0                               416.0  ...   \n",
       "1                               416.0  ...   \n",
       "\n",
       "   resampled_clipped_wc2.1_30s_bio_19  resampled_clipped_wc2.1_30s_bio_2  \\\n",
       "0                               970.0                           7.816667   \n",
       "1                               970.0                           7.816667   \n",
       "\n",
       "   resampled_clipped_wc2.1_30s_bio_3  resampled_clipped_wc2.1_30s_bio_4  \\\n",
       "0                           90.89148                          23.580935   \n",
       "1                           90.89148                          23.580935   \n",
       "\n",
       "   resampled_clipped_wc2.1_30s_bio_5  resampled_clipped_wc2.1_30s_bio_6  \\\n",
       "0                               23.3                               14.7   \n",
       "1                               23.3                               14.7   \n",
       "\n",
       "   resampled_clipped_wc2.1_30s_bio_7  resampled_clipped_wc2.1_30s_bio_8  \\\n",
       "0                           8.599999                               18.8   \n",
       "1                           8.599999                               18.8   \n",
       "\n",
       "   resampled_clipped_wc2.1_30s_bio_9  resampled_clipped_wc2.1_30s_elev  \n",
       "0                          18.983334                              1493  \n",
       "1                          18.983334                              1493  \n",
       "\n",
       "[2 rows x 25 columns]"
      ]
     },
     "execution_count": 3,
     "metadata": {},
     "output_type": "execute_result"
    }
   ],
   "source": [
    "## Solo general para pillar si son los documentos necesarios\n",
    "#dj = pd.read_csv('final_df_raster_data.csv', sep=',')\n",
    "#dj.head(2)"
   ]
  },
  {
   "cell_type": "code",
   "execution_count": 4,
   "id": "bed3c55e-6aef-4223-a7f6-c4ef7bb88e15",
   "metadata": {},
   "outputs": [],
   "source": [
    "import pyspark\n",
    "from pyspark.sql import SparkSession\n",
    "from pyspark.sql.functions import explode, split, coalesce, concat\n",
    "from pyspark.sql.functions import when, count, col, regexp_replace, lit"
   ]
  },
  {
   "cell_type": "code",
   "execution_count": 5,
   "id": "5ff3c589-d1f4-4792-a66b-081b3073d4d3",
   "metadata": {},
   "outputs": [],
   "source": [
    "spark = SparkSession\\\n",
    "    .builder \\\n",
    "    .appName(\"Proyecto_Gradientes_Tatama\") \\\n",
    "    .config(\"spark.driver.memory\", \"4g\") \\\n",
    "    .getOrCreate()"
   ]
  },
  {
   "cell_type": "code",
   "execution_count": 229,
   "id": "7e1ad302",
   "metadata": {},
   "outputs": [],
   "source": [
    "import requests\n",
    "# URL del archivo CSV en GitHub\n",
    "csv_url = 'https://raw.githubusercontent.com/jorgelizarazo94/Cloud_procesing/6487afb8aa687ce23512c4962e79a432f08cc32d/Data/final_df_raster_data.csv'\n",
    "\n",
    "# Utiliza requests para descargar el archivo CSV\n",
    "r = requests.get(csv_url)\n",
    "with open('final_df_raster_data.csv', 'wb') as f:\n",
    "    f.write(r.content)\n",
    "\n",
    "    \n",
    "    \n",
    "csv_url2 = 'https://github.com/jorgelizarazo94/Cloud_procesing/blob/6487afb8aa687ce23512c4962e79a432f08cc32d/Data/Data_ColombiaGradientes_JFCO.csv'\n",
    "\n",
    "# Utiliza requests para descargar el archivo CSV\n",
    "r = requests.get(csv_url2)\n",
    "with open('Data_ColombiaGradientes_JFCO.csv', 'wb') as f:\n",
    "    f.write(r.content)    \n",
    "    "
   ]
  },
  {
   "cell_type": "code",
   "execution_count": 230,
   "id": "b7e13cc3-d328-4cda-8629-c07ecf370930",
   "metadata": {},
   "outputs": [
    {
     "name": "stdout",
     "output_type": "stream",
     "text": [
      "+-------+------------------+------------------+-----------------------------------------------+----------------------------------------------------+---------------------------------+----------------------------------+----------------------------------+----------------------------------+----------------------------------+----------------------------------+----------------------------------+----------------------------------+----------------------------------+----------------------------------+----------------------------------+---------------------------------+---------------------------------+---------------------------------+---------------------------------+---------------------------------+---------------------------------+---------------------------------+---------------------------------+--------------------------------+\n",
      "|Station|           Latitud|          Longitud|clipped_Hansen_GFC-2022-v1.10_lossyear_10N_080W|clipped_Hansen_GFC-2022-v1.10_treecover2000_10N_080W|resampled_clipped_wc2.1_30s_bio_1|resampled_clipped_wc2.1_30s_bio_10|resampled_clipped_wc2.1_30s_bio_11|resampled_clipped_wc2.1_30s_bio_12|resampled_clipped_wc2.1_30s_bio_13|resampled_clipped_wc2.1_30s_bio_14|resampled_clipped_wc2.1_30s_bio_15|resampled_clipped_wc2.1_30s_bio_16|resampled_clipped_wc2.1_30s_bio_17|resampled_clipped_wc2.1_30s_bio_18|resampled_clipped_wc2.1_30s_bio_19|resampled_clipped_wc2.1_30s_bio_2|resampled_clipped_wc2.1_30s_bio_3|resampled_clipped_wc2.1_30s_bio_4|resampled_clipped_wc2.1_30s_bio_5|resampled_clipped_wc2.1_30s_bio_6|resampled_clipped_wc2.1_30s_bio_7|resampled_clipped_wc2.1_30s_bio_8|resampled_clipped_wc2.1_30s_bio_9|resampled_clipped_wc2.1_30s_elev|\n",
      "+-------+------------------+------------------+-----------------------------------------------+----------------------------------------------------+---------------------------------+----------------------------------+----------------------------------+----------------------------------+----------------------------------+----------------------------------+----------------------------------+----------------------------------+----------------------------------+----------------------------------+----------------------------------+---------------------------------+---------------------------------+---------------------------------+---------------------------------+---------------------------------+---------------------------------+---------------------------------+---------------------------------+--------------------------------+\n",
      "|   TA01| 5.223194444444444|-76.08016666666666|                                              0|                                                  45|                        19.033333|                         19.383333|                              18.8|                            2965.0|                             416.0|                             152.0|                          34.28378|                             970.0|                             532.0|                             875.0|                             970.0|                         7.816667|                         90.89148|                        23.580935|                             23.3|                             14.7|                         8.599999|                             18.8|                        18.983334|                            1493|\n",
      "|    TA2| 5.223055555555556|           -76.078|                                              0|                                                  95|                        19.033333|                         19.383333|                              18.8|                            2965.0|                             416.0|                             152.0|                          34.28378|                             970.0|                             532.0|                             875.0|                             970.0|                         7.816667|                         90.89148|                        23.580935|                             23.3|                             14.7|                         8.599999|                             18.8|                        18.983334|                            1493|\n",
      "|    TA3| 5.219972222222222|-76.07927777777778|                                              0|                                                  92|                        19.033333|                         19.383333|                              18.8|                            2965.0|                             416.0|                             152.0|                          34.28378|                             970.0|                             532.0|                             875.0|                             970.0|                         7.816667|                         90.89148|                        23.580935|                             23.3|                             14.7|                         8.599999|                             18.8|                        18.983334|                            1493|\n",
      "|    TA4|5.2322500000000005|-76.09191666666666|                                              0|                                                  95|                          18.7875|                         19.116667|                             18.55|                            2605.0|                             379.0|                              94.0|                         35.614826|                             862.0|                             458.0|                             765.0|                             862.0|                         7.741667|                        92.162704|                        22.373373|                             22.9|                             14.5|                              8.4|                            18.55|                             18.9|                            1544|\n",
      "|    TA5| 5.240222222222222|-76.09208333333333|                                              0|                                                  90|                        18.754168|                         19.083334|                              18.5|                            3087.0|                             414.0|                             163.0|                           26.5564|                             921.0|                             637.0|                             853.0|                             885.0|                            7.725|                         91.96429|                        23.204458|                             22.9|                             14.5|                              8.4|                             18.5|                        18.666666|                            1568|\n",
      "|    TA6| 5.244694444444445|         -76.09375|                                              0|                                                  90|                          18.3375|                         18.633333|                         18.066666|                            3066.0|                             418.0|                             162.0|                         31.792627|                             992.0|                             555.0|                             875.0|                             992.0|                         7.758333|                        92.361115|                        22.676077|                             22.5|                             14.1|                              8.4|                        18.066666|                        18.366667|                            1667|\n",
      "|    TA7|           5.24625| -76.0961111111111|                                              0|                                                  90|                          18.3375|                         18.633333|                         18.066666|                            3066.0|                             418.0|                             162.0|                         31.792627|                             992.0|                             555.0|                             875.0|                             992.0|                         7.758333|                        92.361115|                        22.676077|                             22.5|                             14.1|                              8.4|                        18.066666|                        18.366667|                            1667|\n",
      "|    TA8| 5.238166666666666|-76.08394444444444|                                              0|                                                  92|                          19.8875|                             20.25|                              19.6|                            2871.0|                             363.0|                             128.0|                         31.151634|                             892.0|                             474.0|                             868.0|                             892.0|                            8.425|                         91.57609|                         25.77216|                             24.5|                             15.3|                              9.2|                             19.6|                            20.05|                            1377|\n",
      "|    TA9| 5.247638888888889|-76.09861111111111|                                              0|                                                  90|                          18.3375|                         18.633333|                         18.066666|                            3066.0|                             418.0|                             162.0|                         31.792627|                             992.0|                             555.0|                             875.0|                             992.0|                         7.758333|                        92.361115|                        22.676077|                             22.5|                             14.1|                              8.4|                        18.066666|                        18.366667|                            1667|\n",
      "|   TA10| 5.249138888888889|-76.14944444444444|                                              0|                                                  95|                        16.729166|                         16.966667|                         16.449999|                            2485.0|                             373.0|                             123.0|                         37.646206|                             848.0|                             397.0|                             685.0|                             814.0|                        7.2416663|                          89.4033|                        21.474976|                             20.8|                             12.7|                         8.099999|                        16.466667|                        16.816666|                            1938|\n",
      "|   TA11| 5.248777777777778|          -76.1275|                                              0|                                                  95|                        15.220833|                         15.400001|                         14.966666|                            2248.0|                             309.0|                              82.0|                         38.576023|                             771.0|                             316.0|                             649.0|                             771.0|                        7.1749997|                         89.68751|                        19.593414|                             19.3|                             11.3|                         7.999999|                        14.966666|                        15.316667|                            2228|\n",
      "|   TA12| 5.251166666666666|-76.10408333333332|                                              0|                                                  90|                        16.629166|                         16.866667|                         16.366667|                            2140.0|                             289.0|                              83.0|                          37.20048|                             745.0|                             323.0|                             602.0|                             745.0|                         7.408333|                        90.345535|                        20.830303|                             20.8|                             12.6|                         8.199999|                        16.366667|                        16.733334|                            1984|\n",
      "|   TA13| 5.253777777777778|-76.10866666666666|                                              0|                                                  99|                           14.575|                             14.75|                         14.333333|                            1992.0|                             260.0|                              82.0|                         36.895878|                             667.0|                             308.0|                             595.0|                             667.0|                        7.2166667|                         90.20832|                        19.128756|                             18.7|                             10.7|                         8.000001|                        14.333333|                        14.666666|                            2360|\n",
      "|   TA14| 5.257611111111111|-76.11013888888888|                                              0|                                                  90|                           14.575|                             14.75|                         14.333333|                            1992.0|                             260.0|                              82.0|                         36.895878|                             667.0|                             308.0|                             595.0|                             667.0|                        7.2166667|                         90.20832|                        19.128756|                             18.7|                             10.7|                         8.000001|                        14.333333|                        14.666666|                            2360|\n",
      "|   TA15| 5.256888888888889| -76.1121111111111|                                              0|                                                  90|                           14.575|                             14.75|                         14.333333|                            1992.0|                             260.0|                              82.0|                         36.895878|                             667.0|                             308.0|                             595.0|                             667.0|                        7.2166667|                         90.20832|                        19.128756|                             18.7|                             10.7|                         8.000001|                        14.333333|                        14.666666|                            2360|\n",
      "|   TA16| 5.256194444444445|-76.11355555555555|                                              0|                                                  90|                           14.575|                             14.75|                         14.333333|                            1992.0|                             260.0|                              82.0|                         36.895878|                             667.0|                             308.0|                             595.0|                             667.0|                        7.2166667|                         90.20832|                        19.128756|                             18.7|                             10.7|                         8.000001|                        14.333333|                        14.666666|                            2360|\n",
      "| TA01_1|  5.22388542745007|-76.07804003964577|                                              0|                                                  95|                        19.033333|                         19.383333|                              18.8|                            2965.0|                             416.0|                             152.0|                          34.28378|                             970.0|                             532.0|                             875.0|                             970.0|                         7.816667|                         90.89148|                        23.580935|                             23.3|                             14.7|                         8.599999|                             18.8|                        18.983334|                            1493|\n",
      "| TA01_2| 5.224508772224742|-76.07835764967228|                                              0|                                                  95|                        19.033333|                         19.383333|                              18.8|                            2965.0|                             416.0|                             152.0|                          34.28378|                             970.0|                             532.0|                             875.0|                             970.0|                         7.816667|                         90.89148|                        23.580935|                             23.3|                             14.7|                         8.599999|                             18.8|                        18.983334|                            1493|\n",
      "| TA01_3|  5.22500346143882|-76.07885233888635|                                              0|                                                  95|                        19.033333|                         19.383333|                              18.8|                            2965.0|                             416.0|                             152.0|                          34.28378|                             970.0|                             532.0|                             875.0|                             970.0|                         7.816667|                         90.89148|                        23.580935|                             23.3|                             14.7|                         8.599999|                             18.8|                        18.983334|                            1493|\n",
      "| TA01_4| 5.225321071465324|-76.07947568366103|                                              0|                                                  95|                        19.620832|                         19.966667|                         19.366667|                            2351.0|                             306.0|                              88.0|                          37.38887|                             784.0|                             344.0|                             720.0|                             725.0|                         8.224999|                        91.388885|                        24.069817|                             24.1|                             15.1|                              9.0|                        19.816668|                        19.766666|                            1420|\n",
      "+-------+------------------+------------------+-----------------------------------------------+----------------------------------------------------+---------------------------------+----------------------------------+----------------------------------+----------------------------------+----------------------------------+----------------------------------+----------------------------------+----------------------------------+----------------------------------+----------------------------------+----------------------------------+---------------------------------+---------------------------------+---------------------------------+---------------------------------+---------------------------------+---------------------------------+---------------------------------+---------------------------------+--------------------------------+\n",
      "only showing top 20 rows\n",
      "\n"
     ]
    }
   ],
   "source": [
    "dj_spark = spark.read.option('header', 'true').csv('final_df_raster_data.csv', \n",
    "                                                   header=True, inferSchema=True)\n",
    "dj_spark = dj_spark.withColumnRenamed(\"Estacion\", \"Station\")\n",
    "#dj_spark = dj_spark.withColumnRenamed(\"Elevacion\", \"Elevation\")\n",
    "\n",
    "dj_spark.show(20)"
   ]
  },
  {
   "cell_type": "code",
   "execution_count": 7,
   "id": "b9b882a8",
   "metadata": {},
   "outputs": [
    {
     "name": "stdout",
     "output_type": "stream",
     "text": [
      "+-------+------------------+------------------+-----------------------------------------------+----------------------------------------------------+---------------------------------+----------------------------------+----------------------------------+----------------------------------+----------------------------------+----------------------------------+----------------------------------+----------------------------------+----------------------------------+----------------------------------+----------------------------------+---------------------------------+---------------------------------+---------------------------------+---------------------------------+---------------------------------+---------------------------------+---------------------------------+---------------------------------+--------------------------------+-----------+--------------+\n",
      "|Station|           Latitud|          Longitud|clipped_Hansen_GFC-2022-v1.10_lossyear_10N_080W|clipped_Hansen_GFC-2022-v1.10_treecover2000_10N_080W|resampled_clipped_wc2.1_30s_bio_1|resampled_clipped_wc2.1_30s_bio_10|resampled_clipped_wc2.1_30s_bio_11|resampled_clipped_wc2.1_30s_bio_12|resampled_clipped_wc2.1_30s_bio_13|resampled_clipped_wc2.1_30s_bio_14|resampled_clipped_wc2.1_30s_bio_15|resampled_clipped_wc2.1_30s_bio_16|resampled_clipped_wc2.1_30s_bio_17|resampled_clipped_wc2.1_30s_bio_18|resampled_clipped_wc2.1_30s_bio_19|resampled_clipped_wc2.1_30s_bio_2|resampled_clipped_wc2.1_30s_bio_3|resampled_clipped_wc2.1_30s_bio_4|resampled_clipped_wc2.1_30s_bio_5|resampled_clipped_wc2.1_30s_bio_6|resampled_clipped_wc2.1_30s_bio_7|resampled_clipped_wc2.1_30s_bio_8|resampled_clipped_wc2.1_30s_bio_9|resampled_clipped_wc2.1_30s_elev|Station_new|Station_sample|\n",
      "+-------+------------------+------------------+-----------------------------------------------+----------------------------------------------------+---------------------------------+----------------------------------+----------------------------------+----------------------------------+----------------------------------+----------------------------------+----------------------------------+----------------------------------+----------------------------------+----------------------------------+----------------------------------+---------------------------------+---------------------------------+---------------------------------+---------------------------------+---------------------------------+---------------------------------+---------------------------------+---------------------------------+--------------------------------+-----------+--------------+\n",
      "|   TA01| 5.223194444444444|-76.08016666666666|                                              0|                                                  45|                        19.033333|                         19.383333|                              18.8|                            2965.0|                             416.0|                             152.0|                          34.28378|                             970.0|                             532.0|                             875.0|                             970.0|                         7.816667|                         90.89148|                        23.580935|                             23.3|                             14.7|                         8.599999|                             18.8|                        18.983334|                            1493|       TA01|         first|\n",
      "|    TA2| 5.223055555555556|           -76.078|                                              0|                                                  95|                        19.033333|                         19.383333|                              18.8|                            2965.0|                             416.0|                             152.0|                          34.28378|                             970.0|                             532.0|                             875.0|                             970.0|                         7.816667|                         90.89148|                        23.580935|                             23.3|                             14.7|                         8.599999|                             18.8|                        18.983334|                            1493|        TA2|         first|\n",
      "|    TA3| 5.219972222222222|-76.07927777777778|                                              0|                                                  92|                        19.033333|                         19.383333|                              18.8|                            2965.0|                             416.0|                             152.0|                          34.28378|                             970.0|                             532.0|                             875.0|                             970.0|                         7.816667|                         90.89148|                        23.580935|                             23.3|                             14.7|                         8.599999|                             18.8|                        18.983334|                            1493|        TA3|         first|\n",
      "|    TA4|5.2322500000000005|-76.09191666666666|                                              0|                                                  95|                          18.7875|                         19.116667|                             18.55|                            2605.0|                             379.0|                              94.0|                         35.614826|                             862.0|                             458.0|                             765.0|                             862.0|                         7.741667|                        92.162704|                        22.373373|                             22.9|                             14.5|                              8.4|                            18.55|                             18.9|                            1544|        TA4|         first|\n",
      "|    TA5| 5.240222222222222|-76.09208333333333|                                              0|                                                  90|                        18.754168|                         19.083334|                              18.5|                            3087.0|                             414.0|                             163.0|                           26.5564|                             921.0|                             637.0|                             853.0|                             885.0|                            7.725|                         91.96429|                        23.204458|                             22.9|                             14.5|                              8.4|                             18.5|                        18.666666|                            1568|        TA5|         first|\n",
      "|    TA6| 5.244694444444445|         -76.09375|                                              0|                                                  90|                          18.3375|                         18.633333|                         18.066666|                            3066.0|                             418.0|                             162.0|                         31.792627|                             992.0|                             555.0|                             875.0|                             992.0|                         7.758333|                        92.361115|                        22.676077|                             22.5|                             14.1|                              8.4|                        18.066666|                        18.366667|                            1667|        TA6|         first|\n",
      "|    TA7|           5.24625| -76.0961111111111|                                              0|                                                  90|                          18.3375|                         18.633333|                         18.066666|                            3066.0|                             418.0|                             162.0|                         31.792627|                             992.0|                             555.0|                             875.0|                             992.0|                         7.758333|                        92.361115|                        22.676077|                             22.5|                             14.1|                              8.4|                        18.066666|                        18.366667|                            1667|        TA7|         first|\n",
      "|    TA8| 5.238166666666666|-76.08394444444444|                                              0|                                                  92|                          19.8875|                             20.25|                              19.6|                            2871.0|                             363.0|                             128.0|                         31.151634|                             892.0|                             474.0|                             868.0|                             892.0|                            8.425|                         91.57609|                         25.77216|                             24.5|                             15.3|                              9.2|                             19.6|                            20.05|                            1377|        TA8|         first|\n",
      "|    TA9| 5.247638888888889|-76.09861111111111|                                              0|                                                  90|                          18.3375|                         18.633333|                         18.066666|                            3066.0|                             418.0|                             162.0|                         31.792627|                             992.0|                             555.0|                             875.0|                             992.0|                         7.758333|                        92.361115|                        22.676077|                             22.5|                             14.1|                              8.4|                        18.066666|                        18.366667|                            1667|        TA9|         first|\n",
      "|   TA10| 5.249138888888889|-76.14944444444444|                                              0|                                                  95|                        16.729166|                         16.966667|                         16.449999|                            2485.0|                             373.0|                             123.0|                         37.646206|                             848.0|                             397.0|                             685.0|                             814.0|                        7.2416663|                          89.4033|                        21.474976|                             20.8|                             12.7|                         8.099999|                        16.466667|                        16.816666|                            1938|       TA10|         first|\n",
      "|   TA11| 5.248777777777778|          -76.1275|                                              0|                                                  95|                        15.220833|                         15.400001|                         14.966666|                            2248.0|                             309.0|                              82.0|                         38.576023|                             771.0|                             316.0|                             649.0|                             771.0|                        7.1749997|                         89.68751|                        19.593414|                             19.3|                             11.3|                         7.999999|                        14.966666|                        15.316667|                            2228|       TA11|         first|\n",
      "|   TA12| 5.251166666666666|-76.10408333333332|                                              0|                                                  90|                        16.629166|                         16.866667|                         16.366667|                            2140.0|                             289.0|                              83.0|                          37.20048|                             745.0|                             323.0|                             602.0|                             745.0|                         7.408333|                        90.345535|                        20.830303|                             20.8|                             12.6|                         8.199999|                        16.366667|                        16.733334|                            1984|       TA12|         first|\n",
      "|   TA13| 5.253777777777778|-76.10866666666666|                                              0|                                                  99|                           14.575|                             14.75|                         14.333333|                            1992.0|                             260.0|                              82.0|                         36.895878|                             667.0|                             308.0|                             595.0|                             667.0|                        7.2166667|                         90.20832|                        19.128756|                             18.7|                             10.7|                         8.000001|                        14.333333|                        14.666666|                            2360|       TA13|         first|\n",
      "|   TA14| 5.257611111111111|-76.11013888888888|                                              0|                                                  90|                           14.575|                             14.75|                         14.333333|                            1992.0|                             260.0|                              82.0|                         36.895878|                             667.0|                             308.0|                             595.0|                             667.0|                        7.2166667|                         90.20832|                        19.128756|                             18.7|                             10.7|                         8.000001|                        14.333333|                        14.666666|                            2360|       TA14|         first|\n",
      "|   TA15| 5.256888888888889| -76.1121111111111|                                              0|                                                  90|                           14.575|                             14.75|                         14.333333|                            1992.0|                             260.0|                              82.0|                         36.895878|                             667.0|                             308.0|                             595.0|                             667.0|                        7.2166667|                         90.20832|                        19.128756|                             18.7|                             10.7|                         8.000001|                        14.333333|                        14.666666|                            2360|       TA15|         first|\n",
      "|   TA16| 5.256194444444445|-76.11355555555555|                                              0|                                                  90|                           14.575|                             14.75|                         14.333333|                            1992.0|                             260.0|                              82.0|                         36.895878|                             667.0|                             308.0|                             595.0|                             667.0|                        7.2166667|                         90.20832|                        19.128756|                             18.7|                             10.7|                         8.000001|                        14.333333|                        14.666666|                            2360|       TA16|         first|\n",
      "| TA01_1|  5.22388542745007|-76.07804003964577|                                              0|                                                  95|                        19.033333|                         19.383333|                              18.8|                            2965.0|                             416.0|                             152.0|                          34.28378|                             970.0|                             532.0|                             875.0|                             970.0|                         7.816667|                         90.89148|                        23.580935|                             23.3|                             14.7|                         8.599999|                             18.8|                        18.983334|                            1493|       TA01|            S1|\n",
      "| TA01_2| 5.224508772224742|-76.07835764967228|                                              0|                                                  95|                        19.033333|                         19.383333|                              18.8|                            2965.0|                             416.0|                             152.0|                          34.28378|                             970.0|                             532.0|                             875.0|                             970.0|                         7.816667|                         90.89148|                        23.580935|                             23.3|                             14.7|                         8.599999|                             18.8|                        18.983334|                            1493|       TA01|            S2|\n",
      "| TA01_3|  5.22500346143882|-76.07885233888635|                                              0|                                                  95|                        19.033333|                         19.383333|                              18.8|                            2965.0|                             416.0|                             152.0|                          34.28378|                             970.0|                             532.0|                             875.0|                             970.0|                         7.816667|                         90.89148|                        23.580935|                             23.3|                             14.7|                         8.599999|                             18.8|                        18.983334|                            1493|       TA01|            S3|\n",
      "| TA01_4| 5.225321071465324|-76.07947568366103|                                              0|                                                  95|                        19.620832|                         19.966667|                         19.366667|                            2351.0|                             306.0|                              88.0|                          37.38887|                             784.0|                             344.0|                             720.0|                             725.0|                         8.224999|                        91.388885|                        24.069817|                             24.1|                             15.1|                              9.0|                        19.816668|                        19.766666|                            1420|       TA01|            S4|\n",
      "+-------+------------------+------------------+-----------------------------------------------+----------------------------------------------------+---------------------------------+----------------------------------+----------------------------------+----------------------------------+----------------------------------+----------------------------------+----------------------------------+----------------------------------+----------------------------------+----------------------------------+----------------------------------+---------------------------------+---------------------------------+---------------------------------+---------------------------------+---------------------------------+---------------------------------+---------------------------------+---------------------------------+--------------------------------+-----------+--------------+\n",
      "only showing top 20 rows\n",
      "\n"
     ]
    }
   ],
   "source": [
    "# Split the 'Station' column based on '_'\n",
    "split_col = split(dj_spark['Station'], '_')\n",
    "dj_spark = dj_spark.withColumn('Station_new', split_col.getItem(0)) \\\n",
    "                   .withColumn('Station_sample',\n",
    "                               when(split_col.getItem(1).isNull(), \n",
    "                                    lit('first'))\n",
    "                               .otherwise(concat(lit('S'), split_col.getItem(1))))\n",
    "\n",
    "# Show the result\n",
    "dj_spark.show(20)"
   ]
  },
  {
   "cell_type": "code",
   "execution_count": 8,
   "id": "f2e3e85f",
   "metadata": {},
   "outputs": [
    {
     "name": "stdout",
     "output_type": "stream",
     "text": [
      "+------------------+------------------+-----------------------------------------------+----------------------------------------------------+---------------------------------+----------------------------------+----------------------------------+----------------------------------+----------------------------------+----------------------------------+----------------------------------+----------------------------------+----------------------------------+----------------------------------+----------------------------------+---------------------------------+---------------------------------+---------------------------------+---------------------------------+---------------------------------+---------------------------------+---------------------------------+---------------------------------+--------------------------------+-------+--------------+\n",
      "|Latitud           |Longitud          |clipped_Hansen_GFC-2022-v1.10_lossyear_10N_080W|clipped_Hansen_GFC-2022-v1.10_treecover2000_10N_080W|resampled_clipped_wc2.1_30s_bio_1|resampled_clipped_wc2.1_30s_bio_10|resampled_clipped_wc2.1_30s_bio_11|resampled_clipped_wc2.1_30s_bio_12|resampled_clipped_wc2.1_30s_bio_13|resampled_clipped_wc2.1_30s_bio_14|resampled_clipped_wc2.1_30s_bio_15|resampled_clipped_wc2.1_30s_bio_16|resampled_clipped_wc2.1_30s_bio_17|resampled_clipped_wc2.1_30s_bio_18|resampled_clipped_wc2.1_30s_bio_19|resampled_clipped_wc2.1_30s_bio_2|resampled_clipped_wc2.1_30s_bio_3|resampled_clipped_wc2.1_30s_bio_4|resampled_clipped_wc2.1_30s_bio_5|resampled_clipped_wc2.1_30s_bio_6|resampled_clipped_wc2.1_30s_bio_7|resampled_clipped_wc2.1_30s_bio_8|resampled_clipped_wc2.1_30s_bio_9|resampled_clipped_wc2.1_30s_elev|Station|Station_sample|\n",
      "+------------------+------------------+-----------------------------------------------+----------------------------------------------------+---------------------------------+----------------------------------+----------------------------------+----------------------------------+----------------------------------+----------------------------------+----------------------------------+----------------------------------+----------------------------------+----------------------------------+----------------------------------+---------------------------------+---------------------------------+---------------------------------+---------------------------------+---------------------------------+---------------------------------+---------------------------------+---------------------------------+--------------------------------+-------+--------------+\n",
      "|5.223194444444444 |-76.08016666666666|0                                              |45                                                  |19.033333                        |19.383333                         |18.8                              |2965.0                            |416.0                             |152.0                             |34.28378                          |970.0                             |532.0                             |875.0                             |970.0                             |7.816667                         |90.89148                         |23.580935                        |23.3                             |14.7                             |8.599999                         |18.8                             |18.983334                        |1493                            |TA01   |first         |\n",
      "|5.223055555555556 |-76.078           |0                                              |95                                                  |19.033333                        |19.383333                         |18.8                              |2965.0                            |416.0                             |152.0                             |34.28378                          |970.0                             |532.0                             |875.0                             |970.0                             |7.816667                         |90.89148                         |23.580935                        |23.3                             |14.7                             |8.599999                         |18.8                             |18.983334                        |1493                            |TA2    |first         |\n",
      "|5.219972222222222 |-76.07927777777778|0                                              |92                                                  |19.033333                        |19.383333                         |18.8                              |2965.0                            |416.0                             |152.0                             |34.28378                          |970.0                             |532.0                             |875.0                             |970.0                             |7.816667                         |90.89148                         |23.580935                        |23.3                             |14.7                             |8.599999                         |18.8                             |18.983334                        |1493                            |TA3    |first         |\n",
      "|5.2322500000000005|-76.09191666666666|0                                              |95                                                  |18.7875                          |19.116667                         |18.55                             |2605.0                            |379.0                             |94.0                              |35.614826                         |862.0                             |458.0                             |765.0                             |862.0                             |7.741667                         |92.162704                        |22.373373                        |22.9                             |14.5                             |8.4                              |18.55                            |18.9                             |1544                            |TA4    |first         |\n",
      "|5.240222222222222 |-76.09208333333333|0                                              |90                                                  |18.754168                        |19.083334                         |18.5                              |3087.0                            |414.0                             |163.0                             |26.5564                           |921.0                             |637.0                             |853.0                             |885.0                             |7.725                            |91.96429                         |23.204458                        |22.9                             |14.5                             |8.4                              |18.5                             |18.666666                        |1568                            |TA5    |first         |\n",
      "|5.244694444444445 |-76.09375         |0                                              |90                                                  |18.3375                          |18.633333                         |18.066666                         |3066.0                            |418.0                             |162.0                             |31.792627                         |992.0                             |555.0                             |875.0                             |992.0                             |7.758333                         |92.361115                        |22.676077                        |22.5                             |14.1                             |8.4                              |18.066666                        |18.366667                        |1667                            |TA6    |first         |\n",
      "|5.24625           |-76.0961111111111 |0                                              |90                                                  |18.3375                          |18.633333                         |18.066666                         |3066.0                            |418.0                             |162.0                             |31.792627                         |992.0                             |555.0                             |875.0                             |992.0                             |7.758333                         |92.361115                        |22.676077                        |22.5                             |14.1                             |8.4                              |18.066666                        |18.366667                        |1667                            |TA7    |first         |\n",
      "|5.238166666666666 |-76.08394444444444|0                                              |92                                                  |19.8875                          |20.25                             |19.6                              |2871.0                            |363.0                             |128.0                             |31.151634                         |892.0                             |474.0                             |868.0                             |892.0                             |8.425                            |91.57609                         |25.77216                         |24.5                             |15.3                             |9.2                              |19.6                             |20.05                            |1377                            |TA8    |first         |\n",
      "|5.247638888888889 |-76.09861111111111|0                                              |90                                                  |18.3375                          |18.633333                         |18.066666                         |3066.0                            |418.0                             |162.0                             |31.792627                         |992.0                             |555.0                             |875.0                             |992.0                             |7.758333                         |92.361115                        |22.676077                        |22.5                             |14.1                             |8.4                              |18.066666                        |18.366667                        |1667                            |TA9    |first         |\n",
      "|5.249138888888889 |-76.14944444444444|0                                              |95                                                  |16.729166                        |16.966667                         |16.449999                         |2485.0                            |373.0                             |123.0                             |37.646206                         |848.0                             |397.0                             |685.0                             |814.0                             |7.2416663                        |89.4033                          |21.474976                        |20.8                             |12.7                             |8.099999                         |16.466667                        |16.816666                        |1938                            |TA10   |first         |\n",
      "|5.248777777777778 |-76.1275          |0                                              |95                                                  |15.220833                        |15.400001                         |14.966666                         |2248.0                            |309.0                             |82.0                              |38.576023                         |771.0                             |316.0                             |649.0                             |771.0                             |7.1749997                        |89.68751                         |19.593414                        |19.3                             |11.3                             |7.999999                         |14.966666                        |15.316667                        |2228                            |TA11   |first         |\n",
      "|5.251166666666666 |-76.10408333333332|0                                              |90                                                  |16.629166                        |16.866667                         |16.366667                         |2140.0                            |289.0                             |83.0                              |37.20048                          |745.0                             |323.0                             |602.0                             |745.0                             |7.408333                         |90.345535                        |20.830303                        |20.8                             |12.6                             |8.199999                         |16.366667                        |16.733334                        |1984                            |TA12   |first         |\n",
      "|5.253777777777778 |-76.10866666666666|0                                              |99                                                  |14.575                           |14.75                             |14.333333                         |1992.0                            |260.0                             |82.0                              |36.895878                         |667.0                             |308.0                             |595.0                             |667.0                             |7.2166667                        |90.20832                         |19.128756                        |18.7                             |10.7                             |8.000001                         |14.333333                        |14.666666                        |2360                            |TA13   |first         |\n",
      "|5.257611111111111 |-76.11013888888888|0                                              |90                                                  |14.575                           |14.75                             |14.333333                         |1992.0                            |260.0                             |82.0                              |36.895878                         |667.0                             |308.0                             |595.0                             |667.0                             |7.2166667                        |90.20832                         |19.128756                        |18.7                             |10.7                             |8.000001                         |14.333333                        |14.666666                        |2360                            |TA14   |first         |\n",
      "|5.256888888888889 |-76.1121111111111 |0                                              |90                                                  |14.575                           |14.75                             |14.333333                         |1992.0                            |260.0                             |82.0                              |36.895878                         |667.0                             |308.0                             |595.0                             |667.0                             |7.2166667                        |90.20832                         |19.128756                        |18.7                             |10.7                             |8.000001                         |14.333333                        |14.666666                        |2360                            |TA15   |first         |\n",
      "|5.256194444444445 |-76.11355555555555|0                                              |90                                                  |14.575                           |14.75                             |14.333333                         |1992.0                            |260.0                             |82.0                              |36.895878                         |667.0                             |308.0                             |595.0                             |667.0                             |7.2166667                        |90.20832                         |19.128756                        |18.7                             |10.7                             |8.000001                         |14.333333                        |14.666666                        |2360                            |TA16   |first         |\n",
      "|5.22388542745007  |-76.07804003964577|0                                              |95                                                  |19.033333                        |19.383333                         |18.8                              |2965.0                            |416.0                             |152.0                             |34.28378                          |970.0                             |532.0                             |875.0                             |970.0                             |7.816667                         |90.89148                         |23.580935                        |23.3                             |14.7                             |8.599999                         |18.8                             |18.983334                        |1493                            |TA01   |S1            |\n",
      "|5.224508772224742 |-76.07835764967228|0                                              |95                                                  |19.033333                        |19.383333                         |18.8                              |2965.0                            |416.0                             |152.0                             |34.28378                          |970.0                             |532.0                             |875.0                             |970.0                             |7.816667                         |90.89148                         |23.580935                        |23.3                             |14.7                             |8.599999                         |18.8                             |18.983334                        |1493                            |TA01   |S2            |\n",
      "|5.22500346143882  |-76.07885233888635|0                                              |95                                                  |19.033333                        |19.383333                         |18.8                              |2965.0                            |416.0                             |152.0                             |34.28378                          |970.0                             |532.0                             |875.0                             |970.0                             |7.816667                         |90.89148                         |23.580935                        |23.3                             |14.7                             |8.599999                         |18.8                             |18.983334                        |1493                            |TA01   |S3            |\n",
      "|5.225321071465324 |-76.07947568366103|0                                              |95                                                  |19.620832                        |19.966667                         |19.366667                         |2351.0                            |306.0                             |88.0                              |37.38887                          |784.0                             |344.0                             |720.0                             |725.0                             |8.224999                         |91.388885                        |24.069817                        |24.1                             |15.1                             |9.0                              |19.816668                        |19.766666                        |1420                            |TA01   |S4            |\n",
      "+------------------+------------------+-----------------------------------------------+----------------------------------------------------+---------------------------------+----------------------------------+----------------------------------+----------------------------------+----------------------------------+----------------------------------+----------------------------------+----------------------------------+----------------------------------+----------------------------------+----------------------------------+---------------------------------+---------------------------------+---------------------------------+---------------------------------+---------------------------------+---------------------------------+---------------------------------+---------------------------------+--------------------------------+-------+--------------+\n",
      "only showing top 20 rows\n",
      "\n"
     ]
    }
   ],
   "source": [
    "dj_spark = dj_spark.drop('Station').withColumnRenamed('Station_new', 'Station')\n",
    "\n",
    "dj_spark.show(20, False)"
   ]
  },
  {
   "cell_type": "code",
   "execution_count": 9,
   "id": "0360f8c2-6907-450a-a144-2de726aedcac",
   "metadata": {},
   "outputs": [],
   "source": [
    "df_spark = spark.read.option('header', 'true').csv('Data_ColombiaGradientes_JFCO.csv', \n",
    "                                                   header=True, inferSchema=True)"
   ]
  },
  {
   "cell_type": "code",
   "execution_count": null,
   "id": "b94b4090",
   "metadata": {},
   "outputs": [],
   "source": []
  },
  {
   "cell_type": "code",
   "execution_count": 10,
   "id": "2f64e975",
   "metadata": {},
   "outputs": [
    {
     "data": {
      "text/html": [
       "<style>pre { white-space: pre !important; }</style>"
      ],
      "text/plain": [
       "<IPython.core.display.HTML object>"
      ]
     },
     "metadata": {},
     "output_type": "display_data"
    }
   ],
   "source": [
    "from IPython.core.display import HTML\n",
    "display(HTML(\"<style>pre { white-space: pre !important; }</style>\"))"
   ]
  },
  {
   "cell_type": "code",
   "execution_count": 11,
   "id": "6bf2d1a0-9ea8-4251-b6e1-6c52c0e91d5d",
   "metadata": {},
   "outputs": [
    {
     "name": "stdout",
     "output_type": "stream",
     "text": [
      "+-------+--------+---------+----+-----+---+---+-------+----+----+----+---------+--------+----+---------+------------+-------------+------------+-----------+--------------------+-------------+--------------------+-----+---------+-----+------------+--------------+-------------+-------------+------------+------+-----+------------+--------------+---------------+------------------+---------+---+--------------+------+---+-----------+-----------+---+---------+---------------+---------+-----------+-------------+---------+---------+------------+------------+------------+------------+-----+-------+--------+------+------------+------+-----+--------+------------+-------+--------------------+----------+-------+---------+-------------+\n",
      "|Entrada|Station |     Date|Year|month|Day| ID|Station| net|  N:|  W:|Elev. (m)|altitude|time|Band_Code|Color_Anillo|        Order|      Family|      Genus|             Species|code _Species|         common_name|Recap|new_recap| Mass|Culmen_Total|Culmen_Exposed|PW bill_width|PH bill_depth|Culmen_gapes|Tarsus|Halux|Nail_1finger|feet_extension|Central_rectrix|External_Rectrices|Wing_cord|P-S|age_Historical|   Sex|Rep|Pro_Cloacal|Brood_Patch|Fat|Condition|Pectoral_Muscle|Body_Molt|FLIGHT_MOLT|Fheather_wear|Molt_tail|Wear_tail|  molt_notes| Molt_ Limit|   Cycle_WRP|  Code_cycle|Skull|How_sex|How_aged|Status|  Iris_Color|Photos|Blood|Parasite|F-Chamber M.|Feather|          Notes_Bird|Num_Colect|replica|Anillador|Notes_General|\n",
      "+-------+--------+---------+----+-----+---+---+-------+----+----+----+---------+--------+----+---------+------------+-------------+------------+-----------+--------------------+-------------+--------------------+-----+---------+-----+------------+--------------+-------------+-------------+------------+------+-----+------------+--------------+---------------+------------------+---------+---+--------------+------+---+-----------+-----------+---+---------+---------------+---------+-----------+-------------+---------+---------+------------+------------+------------+------------+-----+-------+--------+------+------------+------+-----+--------+------------+-------+--------------------+----------+-------+---------+-------------+\n",
      "|    621|  Tatama|25-Feb-14|2014|  Feb| 25|  1|   TA01|null|null|null|     1400|    null|  NA|        x|           x|  Apodiformes| Trochilidae|Phaethornis|Phaethornis syrma...|         TBHE|Tawny-bellied Hermit|   NA|     null| 6.32|          40|          39.9|          3.9|            3|          NA|    NA|   NA|          NA|            NA|             70|                NA|       64| NA|         ADULT|   UNK| NA|         NA|         NA| NA|     null|              2|        7|          S|   desgastada|        0|     null|         p1s|Check_photos|Check_photos|Check_photos|   NA|     NA|      NA|    NA|Check_photos|    no| null|      NA|        null|      Y|Muestras de pluma...|      null|   null|     null|         null|\n",
      "|    622|  Tatama|25-Feb-14|2014|  Feb| 25|  2|   TA01|null|null|null|     1400|    null|  NA|     C616|           x|Passeriformes|  Tyrannidae|  Mionectes|Mionectes striati...|         STNF|Streak-Nekced Fly...|   NA|     null|   NA|         9.5|           8.2|          4.5|          3.7|          NA|  16.2|   NA|          NA|            NA|             48|                NA|       66| NA|           UNK|   UNK| NA|         NA|         NA|  M|     null|              3|        0|          0|   desgastada|        0|     null|Check_photos|Check_photos|Check_photos|Check_photos|   NA|     NA|      NA|    NA|Check_photos|    no| null|      NA|        null|      Y|Muestras 2pecho y...|      null|   null|     null|         null|\n",
      "|    623|  Tatama|25-Feb-14|2014|  Feb| 25|  3|   TA01|null|null|null|     1400|    null|  NA|     A813|           x|Passeriformes|Fringillidae|   Euphonia|Euphonia xanthoga...|         OBEU|Orange-bellied Eu...|   NA|     null|12.85|         8.7|           6.6|          7.8|          5.5|          NA|  16.1|   NA|          NA|            NA|             32|                NA|       59| NA|         ADULT|Female| NA|         NA|         NA|  A|     null|              4|        3|          0|   intermedio|        0|     null|Check_photos|Check_photos|Check_photos|Check_photos|   NA|     NA|      NA|    NA|Check_photos|    si| null|      NA|        null|      Y|Muestras de pluma...|      null|   null|     null|         null|\n",
      "|    624|  Tatama|25-Feb-14|2014|  Feb| 25|  4|   TA01|null|null|null|     1400|    null|  NA|     B825|           x|Passeriformes|  Tyrannidae|  Zimmerius|  Zimmerius chrysops|         GFTY|Golden-faced Tyra...|   NA|     null| 8.43|         6.8|           5.2|          3.9|          3.4|          NA|  14.7|   NA|          NA|            NA|             40|                NA|       48| NA|         ADULT|   UNK| NA|         NA|         NA|  F|     null|              4|   Muchas|          0|   intermedio|        0|     null|Check_photos|Check_photos|Check_photos|Check_photos|   NA|     NA|      NA|    NA|Check_photos|    si| null|      NA|        null|      Y|Muestras de pluma...|      null|   null|     null|         null|\n",
      "|    625|  Tatama|25-Feb-14|2014|  Feb| 25|  5|   TA01|null|null|null|     1400|    null|  NA|     A814|           x|Passeriformes|  Tyrannidae|  Mionectes| Mionectes olivaceus|         OSTF|Olive-striped Fly...|   NA|     null|13.28|        13.1|           9.6|          5.3|          3.9|          NA|  16.1|   NA|          NA|            NA|             45|                NA|       60| NA|      INMATURE|   UNK| NA|         NA|         NA| NA|     null|              4|        0|          0|   desgastada|        0|     null|Check_photos|Check_photos|Check_photos|Check_photos|   NA|     NA|      NA|    NA|Check_photos|    si| null|       Y|        null|      Y|Muestras de pluma...|      null|   null|     null|         null|\n",
      "+-------+--------+---------+----+-----+---+---+-------+----+----+----+---------+--------+----+---------+------------+-------------+------------+-----------+--------------------+-------------+--------------------+-----+---------+-----+------------+--------------+-------------+-------------+------------+------+-----+------------+--------------+---------------+------------------+---------+---+--------------+------+---+-----------+-----------+---+---------+---------------+---------+-----------+-------------+---------+---------+------------+------------+------------+------------+-----+-------+--------+------+------------+------+-----+--------+------------+-------+--------------------+----------+-------+---------+-------------+\n",
      "only showing top 5 rows\n",
      "\n"
     ]
    }
   ],
   "source": [
    "df_spark.show(5)"
   ]
  },
  {
   "cell_type": "code",
   "execution_count": 12,
   "id": "7f01e184-8c27-4183-98c9-82546b397d24",
   "metadata": {},
   "outputs": [
    {
     "name": "stdout",
     "output_type": "stream",
     "text": [
      "+-------+-------+---------+----+-----+---+---+-----------+-----------+-----------+--------------------+-------------+----+------------+--------------+-------------+-------------+------------+------+-----+------------+--------------+---------------+---------+-----------------+------------------+-----------------------------------------------+----------------------------------------------------+---------------------------------+----------------------------------+----------------------------------+----------------------------------+----------------------------------+----------------------------------+----------------------------------+----------------------------------+----------------------------------+----------------------------------+----------------------------------+---------------------------------+---------------------------------+---------------------------------+---------------------------------+---------------------------------+---------------------------------+---------------------------------+---------------------------------+--------------------------------+--------------+\n",
      "|Station|Entrada|     Date|Year|month|Day| ID|      Order|     Family|      Genus|             Species|code _Species|Mass|Culmen_Total|Culmen_Exposed|PW bill_width|PH bill_depth|Culmen_gapes|Tarsus|Halux|Nail_1finger|feet_extension|Central_rectrix|Wing_cord|          Latitud|          Longitud|clipped_Hansen_GFC-2022-v1.10_lossyear_10N_080W|clipped_Hansen_GFC-2022-v1.10_treecover2000_10N_080W|resampled_clipped_wc2.1_30s_bio_1|resampled_clipped_wc2.1_30s_bio_10|resampled_clipped_wc2.1_30s_bio_11|resampled_clipped_wc2.1_30s_bio_12|resampled_clipped_wc2.1_30s_bio_13|resampled_clipped_wc2.1_30s_bio_14|resampled_clipped_wc2.1_30s_bio_15|resampled_clipped_wc2.1_30s_bio_16|resampled_clipped_wc2.1_30s_bio_17|resampled_clipped_wc2.1_30s_bio_18|resampled_clipped_wc2.1_30s_bio_19|resampled_clipped_wc2.1_30s_bio_2|resampled_clipped_wc2.1_30s_bio_3|resampled_clipped_wc2.1_30s_bio_4|resampled_clipped_wc2.1_30s_bio_5|resampled_clipped_wc2.1_30s_bio_6|resampled_clipped_wc2.1_30s_bio_7|resampled_clipped_wc2.1_30s_bio_8|resampled_clipped_wc2.1_30s_bio_9|resampled_clipped_wc2.1_30s_elev|Station_sample|\n",
      "+-------+-------+---------+----+-----+---+---+-----------+-----------+-----------+--------------------+-------------+----+------------+--------------+-------------+-------------+------------+------+-----+------------+--------------+---------------+---------+-----------------+------------------+-----------------------------------------------+----------------------------------------------------+---------------------------------+----------------------------------+----------------------------------+----------------------------------+----------------------------------+----------------------------------+----------------------------------+----------------------------------+----------------------------------+----------------------------------+----------------------------------+---------------------------------+---------------------------------+---------------------------------+---------------------------------+---------------------------------+---------------------------------+---------------------------------+---------------------------------+--------------------------------+--------------+\n",
      "|   TA01|    621|25-Feb-14|2014|  Feb| 25|  1|Apodiformes|Trochilidae|Phaethornis|Phaethornis syrma...|         TBHE|6.32|          40|          39.9|          3.9|            3|          NA|    NA|   NA|          NA|            NA|             70|       64|5.223194444444444|-76.07793059868916|                                              0|                                                  95|                        19.033333|                         19.383333|                              18.8|                            2965.0|                             416.0|                             152.0|                          34.28378|                             970.0|                             532.0|                             875.0|                             970.0|                         7.816667|                         90.89148|                        23.580935|                             23.3|                             14.7|                         8.599999|                             18.8|                        18.983334|                            1493|           S20|\n",
      "|   TA01|    621|25-Feb-14|2014|  Feb| 25|  1|Apodiformes|Trochilidae|Phaethornis|Phaethornis syrma...|         TBHE|6.32|          40|          39.9|          3.9|            3|          NA|    NA|   NA|          NA|            NA|             70|       64|5.222503461438818|-76.07804003964577|                                              0|                                                  95|                        19.033333|                         19.383333|                              18.8|                            2965.0|                             416.0|                             152.0|                          34.28378|                             970.0|                             532.0|                             875.0|                             970.0|                         7.816667|                         90.89148|                        23.580935|                             23.3|                             14.7|                         8.599999|                             18.8|                        18.983334|                            1493|           S19|\n",
      "|   TA01|    621|25-Feb-14|2014|  Feb| 25|  1|Apodiformes|Trochilidae|Phaethornis|Phaethornis syrma...|         TBHE|6.32|          40|          39.9|          3.9|            3|          NA|    NA|   NA|          NA|            NA|             70|       64|5.221880116664146|-76.07835764967228|                                              0|                                                  95|                        19.033333|                         19.383333|                              18.8|                            2965.0|                             416.0|                             152.0|                          34.28378|                             970.0|                             532.0|                             875.0|                             970.0|                         7.816667|                         90.89148|                        23.580935|                             23.3|                             14.7|                         8.599999|                             18.8|                        18.983334|                            1493|           S18|\n",
      "|   TA01|    621|25-Feb-14|2014|  Feb| 25|  1|Apodiformes|Trochilidae|Phaethornis|Phaethornis syrma...|         TBHE|6.32|          40|          39.9|          3.9|            3|          NA|    NA|   NA|          NA|            NA|             70|       64|5.221385427450069|-76.07885233888635|                                              0|                                                  90|                        19.033333|                         19.383333|                              18.8|                            2965.0|                             416.0|                             152.0|                          34.28378|                             970.0|                             532.0|                             875.0|                             970.0|                         7.816667|                         90.89148|                        23.580935|                             23.3|                             14.7|                         8.599999|                             18.8|                        18.983334|                            1493|           S17|\n",
      "|   TA01|    621|25-Feb-14|2014|  Feb| 25|  1|Apodiformes|Trochilidae|Phaethornis|Phaethornis syrma...|         TBHE|6.32|          40|          39.9|          3.9|            3|          NA|    NA|   NA|          NA|            NA|             70|       64|5.221067817423564|-76.07947568366103|                                              0|                                                  90|                        19.033333|                         19.383333|                              18.8|                            2965.0|                             416.0|                             152.0|                          34.28378|                             970.0|                             532.0|                             875.0|                             970.0|                         7.816667|                         90.89148|                        23.580935|                             23.3|                             14.7|                         8.599999|                             18.8|                        18.983334|                            1493|           S16|\n",
      "|   TA01|    621|25-Feb-14|2014|  Feb| 25|  1|Apodiformes|Trochilidae|Phaethornis|Phaethornis syrma...|         TBHE|6.32|          40|          39.9|          3.9|            3|          NA|    NA|   NA|          NA|            NA|             70|       64|5.220958376466945|-76.08016666666666|                                              0|                                                  95|                        19.033333|                         19.383333|                              18.8|                            2965.0|                             416.0|                             152.0|                          34.28378|                             970.0|                             532.0|                             875.0|                             970.0|                         7.816667|                         90.89148|                        23.580935|                             23.3|                             14.7|                         8.599999|                             18.8|                        18.983334|                            1493|           S15|\n",
      "|   TA01|    621|25-Feb-14|2014|  Feb| 25|  1|Apodiformes|Trochilidae|Phaethornis|Phaethornis syrma...|         TBHE|6.32|          40|          39.9|          3.9|            3|          NA|    NA|   NA|          NA|            NA|             70|       64|5.221067817423564|-76.08085764967228|                                              0|                                                  90|                        19.033333|                         19.383333|                              18.8|                            2965.0|                             416.0|                             152.0|                          34.28378|                             970.0|                             532.0|                             875.0|                             970.0|                         7.816667|                         90.89148|                        23.580935|                             23.3|                             14.7|                         8.599999|                             18.8|                        18.983334|                            1493|           S14|\n",
      "|   TA01|    621|25-Feb-14|2014|  Feb| 25|  1|Apodiformes|Trochilidae|Phaethornis|Phaethornis syrma...|         TBHE|6.32|          40|          39.9|          3.9|            3|          NA|    NA|   NA|          NA|            NA|             70|       64|5.221385427450069|-76.08148099444696|                                              0|                                                  10|                        19.033333|                         19.383333|                              18.8|                            2965.0|                             416.0|                             152.0|                          34.28378|                             970.0|                             532.0|                             875.0|                             970.0|                         7.816667|                         90.89148|                        23.580935|                             23.3|                             14.7|                         8.599999|                             18.8|                        18.983334|                            1493|           S13|\n",
      "|   TA01|    621|25-Feb-14|2014|  Feb| 25|  1|Apodiformes|Trochilidae|Phaethornis|Phaethornis syrma...|         TBHE|6.32|          40|          39.9|          3.9|            3|          NA|    NA|   NA|          NA|            NA|             70|       64|5.221880116664146|-76.08197568366103|                                              0|                                                   0|                        19.033333|                         19.383333|                              18.8|                            2965.0|                             416.0|                             152.0|                          34.28378|                             970.0|                             532.0|                             875.0|                             970.0|                         7.816667|                         90.89148|                        23.580935|                             23.3|                             14.7|                         8.599999|                             18.8|                        18.983334|                            1493|           S12|\n",
      "|   TA01|    621|25-Feb-14|2014|  Feb| 25|  1|Apodiformes|Trochilidae|Phaethornis|Phaethornis syrma...|         TBHE|6.32|          40|          39.9|          3.9|            3|          NA|    NA|   NA|          NA|            NA|             70|       64|5.222503461438818|-76.08229329368754|                                              0|                                                  90|                        19.033333|                         19.383333|                              18.8|                            2965.0|                             416.0|                             152.0|                          34.28378|                             970.0|                             532.0|                             875.0|                             970.0|                         7.816667|                         90.89148|                        23.580935|                             23.3|                             14.7|                         8.599999|                             18.8|                        18.983334|                            1493|           S11|\n",
      "|   TA01|    621|25-Feb-14|2014|  Feb| 25|  1|Apodiformes|Trochilidae|Phaethornis|Phaethornis syrma...|         TBHE|6.32|          40|          39.9|          3.9|            3|          NA|    NA|   NA|          NA|            NA|             70|       64|5.223194444444444|-76.08240273464415|                                              0|                                                  90|                        19.033333|                         19.383333|                              18.8|                            2965.0|                             416.0|                             152.0|                          34.28378|                             970.0|                             532.0|                             875.0|                             970.0|                         7.816667|                         90.89148|                        23.580935|                             23.3|                             14.7|                         8.599999|                             18.8|                        18.983334|                            1493|           S10|\n",
      "|   TA01|    621|25-Feb-14|2014|  Feb| 25|  1|Apodiformes|Trochilidae|Phaethornis|Phaethornis syrma...|         TBHE|6.32|          40|          39.9|          3.9|            3|          NA|    NA|   NA|          NA|            NA|             70|       64| 5.22388542745007|-76.08229329368754|                                              0|                                                   6|                        19.033333|                         19.383333|                              18.8|                            2965.0|                             416.0|                             152.0|                          34.28378|                             970.0|                             532.0|                             875.0|                             970.0|                         7.816667|                         90.89148|                        23.580935|                             23.3|                             14.7|                         8.599999|                             18.8|                        18.983334|                            1493|            S9|\n",
      "|   TA01|    621|25-Feb-14|2014|  Feb| 25|  1|Apodiformes|Trochilidae|Phaethornis|Phaethornis syrma...|         TBHE|6.32|          40|          39.9|          3.9|            3|          NA|    NA|   NA|          NA|            NA|             70|       64|5.224508772224742|-76.08197568366103|                                              0|                                                  37|                        19.033333|                         19.383333|                              18.8|                            2965.0|                             416.0|                             152.0|                          34.28378|                             970.0|                             532.0|                             875.0|                             970.0|                         7.816667|                         90.89148|                        23.580935|                             23.3|                             14.7|                         8.599999|                             18.8|                        18.983334|                            1493|            S8|\n",
      "|   TA01|    621|25-Feb-14|2014|  Feb| 25|  1|Apodiformes|Trochilidae|Phaethornis|Phaethornis syrma...|         TBHE|6.32|          40|          39.9|          3.9|            3|          NA|    NA|   NA|          NA|            NA|             70|       64| 5.22500346143882|-76.08148099444696|                                              0|                                                  90|                        19.033333|                         19.383333|                              18.8|                            2965.0|                             416.0|                             152.0|                          34.28378|                             970.0|                             532.0|                             875.0|                             970.0|                         7.816667|                         90.89148|                        23.580935|                             23.3|                             14.7|                         8.599999|                             18.8|                        18.983334|                            1493|            S7|\n",
      "|   TA01|    621|25-Feb-14|2014|  Feb| 25|  1|Apodiformes|Trochilidae|Phaethornis|Phaethornis syrma...|         TBHE|6.32|          40|          39.9|          3.9|            3|          NA|    NA|   NA|          NA|            NA|             70|       64|5.225321071465324|-76.08085764967228|                                              0|                                                  95|                        19.620832|                         19.966667|                         19.366667|                            2351.0|                             306.0|                              88.0|                          37.38887|                             784.0|                             344.0|                             720.0|                             725.0|                         8.224999|                        91.388885|                        24.069817|                             24.1|                             15.1|                              9.0|                        19.816668|                        19.766666|                            1420|            S6|\n",
      "|   TA01|    621|25-Feb-14|2014|  Feb| 25|  1|Apodiformes|Trochilidae|Phaethornis|Phaethornis syrma...|         TBHE|6.32|          40|          39.9|          3.9|            3|          NA|    NA|   NA|          NA|            NA|             70|       64|5.225430512421943|-76.08016666666666|                                              0|                                                  95|                        19.620832|                         19.966667|                         19.366667|                            2351.0|                             306.0|                              88.0|                          37.38887|                             784.0|                             344.0|                             720.0|                             725.0|                         8.224999|                        91.388885|                        24.069817|                             24.1|                             15.1|                              9.0|                        19.816668|                        19.766666|                            1420|            S5|\n",
      "|   TA01|    621|25-Feb-14|2014|  Feb| 25|  1|Apodiformes|Trochilidae|Phaethornis|Phaethornis syrma...|         TBHE|6.32|          40|          39.9|          3.9|            3|          NA|    NA|   NA|          NA|            NA|             70|       64|5.225321071465324|-76.07947568366103|                                              0|                                                  95|                        19.620832|                         19.966667|                         19.366667|                            2351.0|                             306.0|                              88.0|                          37.38887|                             784.0|                             344.0|                             720.0|                             725.0|                         8.224999|                        91.388885|                        24.069817|                             24.1|                             15.1|                              9.0|                        19.816668|                        19.766666|                            1420|            S4|\n",
      "|   TA01|    621|25-Feb-14|2014|  Feb| 25|  1|Apodiformes|Trochilidae|Phaethornis|Phaethornis syrma...|         TBHE|6.32|          40|          39.9|          3.9|            3|          NA|    NA|   NA|          NA|            NA|             70|       64| 5.22500346143882|-76.07885233888635|                                              0|                                                  95|                        19.033333|                         19.383333|                              18.8|                            2965.0|                             416.0|                             152.0|                          34.28378|                             970.0|                             532.0|                             875.0|                             970.0|                         7.816667|                         90.89148|                        23.580935|                             23.3|                             14.7|                         8.599999|                             18.8|                        18.983334|                            1493|            S3|\n",
      "|   TA01|    621|25-Feb-14|2014|  Feb| 25|  1|Apodiformes|Trochilidae|Phaethornis|Phaethornis syrma...|         TBHE|6.32|          40|          39.9|          3.9|            3|          NA|    NA|   NA|          NA|            NA|             70|       64|5.224508772224742|-76.07835764967228|                                              0|                                                  95|                        19.033333|                         19.383333|                              18.8|                            2965.0|                             416.0|                             152.0|                          34.28378|                             970.0|                             532.0|                             875.0|                             970.0|                         7.816667|                         90.89148|                        23.580935|                             23.3|                             14.7|                         8.599999|                             18.8|                        18.983334|                            1493|            S2|\n",
      "|   TA01|    621|25-Feb-14|2014|  Feb| 25|  1|Apodiformes|Trochilidae|Phaethornis|Phaethornis syrma...|         TBHE|6.32|          40|          39.9|          3.9|            3|          NA|    NA|   NA|          NA|            NA|             70|       64| 5.22388542745007|-76.07804003964577|                                              0|                                                  95|                        19.033333|                         19.383333|                              18.8|                            2965.0|                             416.0|                             152.0|                          34.28378|                             970.0|                             532.0|                             875.0|                             970.0|                         7.816667|                         90.89148|                        23.580935|                             23.3|                             14.7|                         8.599999|                             18.8|                        18.983334|                            1493|            S1|\n",
      "+-------+-------+---------+----+-----+---+---+-----------+-----------+-----------+--------------------+-------------+----+------------+--------------+-------------+-------------+------------+------+-----+------------+--------------+---------------+---------+-----------------+------------------+-----------------------------------------------+----------------------------------------------------+---------------------------------+----------------------------------+----------------------------------+----------------------------------+----------------------------------+----------------------------------+----------------------------------+----------------------------------+----------------------------------+----------------------------------+----------------------------------+---------------------------------+---------------------------------+---------------------------------+---------------------------------+---------------------------------+---------------------------------+---------------------------------+---------------------------------+--------------------------------+--------------+\n",
      "only showing top 20 rows\n",
      "\n"
     ]
    }
   ],
   "source": [
    "df_spark = df_spark.drop(\"N:\", \"W:\")\n",
    "\n",
    "df_spar = df_spark.join(dj_spark, [\"Station\"], \"left\")\n",
    "#df_spar.printSchema()\n",
    "df_spa = df_spar.drop(\"Localidad\", \"Elev. (m)\", \"net\", \"Notes_General\",\n",
    "                      \"Anillador\", \"replica\", \"Num_Colect\", \"Notes_Bird\", \"Blood\", \"Photos\",\n",
    "                      \"Feather\", \"F-Chamber M.\", \"Parasite\", \"Iris_Color\", \"Status\", \"How_aged\",\n",
    "                      \"How_sex\", \"Skull\", \"Code_cycle\", \"Cycle_WRP\", \"Molt_ Limit\", \"molt_notes\",\n",
    "                      \"Wear_tail\", \"Molt_tail\", \"Fheather_wear\", \"FLIGHT_MOLT\", \"Body_Molt\",\n",
    "                       \"Pectoral_Muscle\", \"Condition\", \"Fat\", \"Station \", \"P-S\", \"Sex\", \"age_Historical\",\n",
    "                     \"Rep\", \"Pro_Cloacal\", \"Brood_Patch\", \"Pro_Cloacal\", \"External_Rectrices\",\n",
    "                     \"new_recap\", \"common_name\", \"Color_Anillo\",\"time\",\"altitude\", \"Recap\",\"Band_Code\")\n",
    "df_spa.show(20)"
   ]
  },
  {
   "cell_type": "code",
   "execution_count": null,
   "id": "49375762",
   "metadata": {},
   "outputs": [],
   "source": []
  },
  {
   "cell_type": "code",
   "execution_count": 13,
   "id": "ea08f712",
   "metadata": {},
   "outputs": [
    {
     "name": "stdout",
     "output_type": "stream",
     "text": [
      "root\n",
      " |-- Station: string (nullable = true)\n",
      " |-- Entrada: integer (nullable = true)\n",
      " |-- Date: string (nullable = true)\n",
      " |-- Year: integer (nullable = true)\n",
      " |-- month: string (nullable = true)\n",
      " |-- Day: integer (nullable = true)\n",
      " |-- ID: string (nullable = true)\n",
      " |-- Order: string (nullable = true)\n",
      " |-- Family: string (nullable = true)\n",
      " |-- Genus: string (nullable = true)\n",
      " |-- Species: string (nullable = true)\n",
      " |-- code _Species: string (nullable = true)\n",
      " |-- Mass: string (nullable = true)\n",
      " |-- Culmen_Total: string (nullable = true)\n",
      " |-- Culmen_Exposed: string (nullable = true)\n",
      " |-- PW bill_width: string (nullable = true)\n",
      " |-- PH bill_depth: string (nullable = true)\n",
      " |-- Culmen_gapes: string (nullable = true)\n",
      " |-- Tarsus: string (nullable = true)\n",
      " |-- Halux: string (nullable = true)\n",
      " |-- Nail_1finger: string (nullable = true)\n",
      " |-- feet_extension: string (nullable = true)\n",
      " |-- Central_rectrix: string (nullable = true)\n",
      " |-- Wing_cord: string (nullable = true)\n",
      " |-- Latitud: double (nullable = true)\n",
      " |-- Longitud: double (nullable = true)\n",
      " |-- lossyear: integer (nullable = true)\n",
      " |-- treecover: integer (nullable = true)\n",
      " |-- bio_1: double (nullable = true)\n",
      " |-- bio_10: double (nullable = true)\n",
      " |-- bio_11: double (nullable = true)\n",
      " |-- bio_12: double (nullable = true)\n",
      " |-- bio_13: double (nullable = true)\n",
      " |-- bio_14: double (nullable = true)\n",
      " |-- bio_15: double (nullable = true)\n",
      " |-- bio_16: double (nullable = true)\n",
      " |-- bio_17: double (nullable = true)\n",
      " |-- bio_18: double (nullable = true)\n",
      " |-- bio_19: double (nullable = true)\n",
      " |-- bio_2: double (nullable = true)\n",
      " |-- bio_3: double (nullable = true)\n",
      " |-- bio_4: double (nullable = true)\n",
      " |-- bio_5: double (nullable = true)\n",
      " |-- bio_6: double (nullable = true)\n",
      " |-- bio_7: double (nullable = true)\n",
      " |-- bio_8: double (nullable = true)\n",
      " |-- bio_9: double (nullable = true)\n",
      " |-- elev: integer (nullable = true)\n",
      " |-- Station_sample: string (nullable = true)\n",
      "\n"
     ]
    }
   ],
   "source": [
    "df_spa = df_spa \\\n",
    "    .withColumnRenamed(\"clipped_Hansen_GFC-2022-v1.10_lossyear_10N_080W\",\n",
    "                       \"lossyear\") \\\n",
    "    .withColumnRenamed(\"clipped_Hansen_GFC-2022-v1.10_treecover2000_10N_080W\", \n",
    "                       \"treecover\") \\\n",
    "    .withColumnRenamed(\"resampled_clipped_wc2.1_30s_bio_1\", \"bio_1\") \\\n",
    "    .withColumnRenamed(\"resampled_clipped_wc2.1_30s_bio_2\", \"bio_2\")  \\\n",
    "    .withColumnRenamed(\"resampled_clipped_wc2.1_30s_bio_3\", \"bio_3\")  \\\n",
    "    .withColumnRenamed(\"resampled_clipped_wc2.1_30s_bio_4\", \"bio_4\")  \\\n",
    "    .withColumnRenamed(\"resampled_clipped_wc2.1_30s_bio_5\", \"bio_5\")  \\\n",
    "    .withColumnRenamed(\"resampled_clipped_wc2.1_30s_bio_6\", \"bio_6\")  \\\n",
    "    .withColumnRenamed(\"resampled_clipped_wc2.1_30s_bio_7\", \"bio_7\")  \\\n",
    "    .withColumnRenamed(\"resampled_clipped_wc2.1_30s_bio_8\", \"bio_8\")  \\\n",
    "    .withColumnRenamed(\"resampled_clipped_wc2.1_30s_bio_9\", \"bio_9\")  \\\n",
    "    .withColumnRenamed(\"resampled_clipped_wc2.1_30s_bio_10\", \"bio_10\") \\\n",
    "    .withColumnRenamed(\"resampled_clipped_wc2.1_30s_bio_11\", \"bio_11\")  \\\n",
    "    .withColumnRenamed(\"resampled_clipped_wc2.1_30s_bio_12\", \"bio_12\")  \\\n",
    "    .withColumnRenamed(\"resampled_clipped_wc2.1_30s_bio_13\", \"bio_13\")  \\\n",
    "    .withColumnRenamed(\"resampled_clipped_wc2.1_30s_bio_14\", \"bio_14\")  \\\n",
    "    .withColumnRenamed(\"resampled_clipped_wc2.1_30s_bio_15\", \"bio_15\")  \\\n",
    "    .withColumnRenamed(\"resampled_clipped_wc2.1_30s_bio_16\", \"bio_16\")  \\\n",
    "    .withColumnRenamed(\"resampled_clipped_wc2.1_30s_bio_17\", \"bio_17\")  \\\n",
    "    .withColumnRenamed(\"resampled_clipped_wc2.1_30s_bio_18\", \"bio_18\")  \\\n",
    "    .withColumnRenamed(\"resampled_clipped_wc2.1_30s_bio_19\", \"bio_19\")  \\\n",
    "    .withColumnRenamed(\"resampled_clipped_wc2.1_30s_elev\", \"elev\")  \n",
    "\n",
    "# Mostrar el esquema del DataFrame modificado para verificar los cambios\n",
    "df_spa.printSchema()"
   ]
  },
  {
   "cell_type": "code",
   "execution_count": 14,
   "id": "6cc1519a",
   "metadata": {},
   "outputs": [
    {
     "name": "stdout",
     "output_type": "stream",
     "text": [
      "+-------+-------+---------+----+-----+---+---+-----------+-----------+-----------+--------------------+-------------+----+------------+--------------+-------------+-------------+------------+------+-----+------------+--------------+---------------+---------+-----------------+------------------+--------+---------+---------+---------+------+------+------+------+--------+------+------+------+------+--------+--------+---------+-----+-----+--------+-----+---------+----+--------------+\n",
      "|Station|Entrada|     Date|Year|month|Day| ID|      Order|     Family|      Genus|             Species|code _Species|Mass|Culmen_Total|Culmen_Exposed|PW bill_width|PH bill_depth|Culmen_gapes|Tarsus|Halux|Nail_1finger|feet_extension|Central_rectrix|Wing_cord|          Latitud|          Longitud|lossyear|treecover|    bio_1|   bio_10|bio_11|bio_12|bio_13|bio_14|  bio_15|bio_16|bio_17|bio_18|bio_19|   bio_2|   bio_3|    bio_4|bio_5|bio_6|   bio_7|bio_8|    bio_9|elev|Station_sample|\n",
      "+-------+-------+---------+----+-----+---+---+-----------+-----------+-----------+--------------------+-------------+----+------------+--------------+-------------+-------------+------------+------+-----+------------+--------------+---------------+---------+-----------------+------------------+--------+---------+---------+---------+------+------+------+------+--------+------+------+------+------+--------+--------+---------+-----+-----+--------+-----+---------+----+--------------+\n",
      "|   TA01|    621|25-Feb-14|2014|  Feb| 25|  1|Apodiformes|Trochilidae|Phaethornis|Phaethornis syrma...|         TBHE|6.32|          40|          39.9|          3.9|            3|          NA|    NA|   NA|          NA|            NA|             70|       64|5.223194444444444|-76.07793059868916|       0|       95|19.033333|19.383333|  18.8|2965.0| 416.0| 152.0|34.28378| 970.0| 532.0| 875.0| 970.0|7.816667|90.89148|23.580935| 23.3| 14.7|8.599999| 18.8|18.983334|1493|           S20|\n",
      "|   TA01|    621|25-Feb-14|2014|  Feb| 25|  1|Apodiformes|Trochilidae|Phaethornis|Phaethornis syrma...|         TBHE|6.32|          40|          39.9|          3.9|            3|          NA|    NA|   NA|          NA|            NA|             70|       64|5.222503461438818|-76.07804003964577|       0|       95|19.033333|19.383333|  18.8|2965.0| 416.0| 152.0|34.28378| 970.0| 532.0| 875.0| 970.0|7.816667|90.89148|23.580935| 23.3| 14.7|8.599999| 18.8|18.983334|1493|           S19|\n",
      "+-------+-------+---------+----+-----+---+---+-----------+-----------+-----------+--------------------+-------------+----+------------+--------------+-------------+-------------+------------+------+-----+------------+--------------+---------------+---------+-----------------+------------------+--------+---------+---------+---------+------+------+------+------+--------+------+------+------+------+--------+--------+---------+-----+-----+--------+-----+---------+----+--------------+\n",
      "only showing top 2 rows\n",
      "\n"
     ]
    }
   ],
   "source": [
    "df_spa.show(2)"
   ]
  },
  {
   "cell_type": "code",
   "execution_count": 15,
   "id": "3365a8fb",
   "metadata": {},
   "outputs": [],
   "source": [
    "from pyspark.sql.types import StringType\n",
    "for column in df_spa.columns:\n",
    "    if isinstance(df_spa.schema[column].dataType, StringType):\n",
    "        df_spa = df_spa.withColumn(column, when(col(column) == \"NA\", None).otherwise(col(column)))"
   ]
  },
  {
   "cell_type": "code",
   "execution_count": 16,
   "id": "eb507822-571b-4fdb-8718-d287c01b0191",
   "metadata": {},
   "outputs": [
    {
     "name": "stdout",
     "output_type": "stream",
     "text": [
      "valores NA en --: 0\n"
     ]
    }
   ],
   "source": [
    "# Contar los valores NA en la columna Latitud\n",
    "na_count = df_spa.agg(\n",
    "    count(when(col(\"elev\").isNull(), True))\n",
    ").collect()[0][0]\n",
    "\n",
    "print(\"valores NA en --:\", na_count)"
   ]
  },
  {
   "cell_type": "code",
   "execution_count": null,
   "id": "29a67c79",
   "metadata": {},
   "outputs": [],
   "source": []
  },
  {
   "cell_type": "code",
   "execution_count": 17,
   "id": "32a2e7b0",
   "metadata": {},
   "outputs": [
    {
     "name": "stdout",
     "output_type": "stream",
     "text": [
      "Número de valores NA en la columna Station: 0\n",
      "Número de valores NA en la columna Entrada: 0\n",
      "Número de valores NA en la columna Date: 0\n",
      "Número de valores NA en la columna Year: 0\n",
      "Número de valores NA en la columna month: 0\n",
      "Número de valores NA en la columna Day: 0\n",
      "Número de valores NA en la columna ID: 0\n",
      "Número de valores NA en la columna Order: 21\n",
      "Número de valores NA en la columna Family: 84\n",
      "Número de valores NA en la columna Genus: 63\n",
      "Número de valores NA en la columna Species: 0\n",
      "Número de valores NA en la columna code _Species: 2793\n",
      "Número de valores NA en la columna Mass: 10164\n",
      "Número de valores NA en la columna Culmen_Total: 10038\n",
      "Número de valores NA en la columna Culmen_Exposed: 36267\n",
      "Número de valores NA en la columna PW bill_width: 10710\n",
      "Número de valores NA en la columna PH bill_depth: 35889\n",
      "Número de valores NA en la columna Culmen_gapes: 49476\n",
      "Número de valores NA en la columna Tarsus: 21987\n",
      "Número de valores NA en la columna Halux: 49539\n",
      "Número de valores NA en la columna Nail_1finger: 49665\n",
      "Número de valores NA en la columna feet_extension: 49854\n",
      "Número de valores NA en la columna Central_rectrix: 13125\n",
      "Número de valores NA en la columna Wing_cord: 10563\n",
      "Número de valores NA en la columna Latitud: 0\n",
      "Número de valores NA en la columna Longitud: 0\n",
      "Número de valores NA en la columna lossyear: 0\n",
      "Número de valores NA en la columna treecover: 0\n",
      "Número de valores NA en la columna bio_1: 0\n",
      "Número de valores NA en la columna bio_10: 0\n",
      "Número de valores NA en la columna bio_11: 0\n",
      "Número de valores NA en la columna bio_12: 0\n",
      "Número de valores NA en la columna bio_13: 0\n",
      "Número de valores NA en la columna bio_14: 0\n",
      "Número de valores NA en la columna bio_15: 0\n",
      "Número de valores NA en la columna bio_16: 0\n",
      "Número de valores NA en la columna bio_17: 0\n",
      "Número de valores NA en la columna bio_18: 0\n",
      "Número de valores NA en la columna bio_19: 0\n",
      "Número de valores NA en la columna bio_2: 0\n",
      "Número de valores NA en la columna bio_3: 0\n",
      "Número de valores NA en la columna bio_4: 0\n",
      "Número de valores NA en la columna bio_5: 0\n",
      "Número de valores NA en la columna bio_6: 0\n",
      "Número de valores NA en la columna bio_7: 0\n",
      "Número de valores NA en la columna bio_8: 0\n",
      "Número de valores NA en la columna bio_9: 0\n",
      "Número de valores NA en la columna elev: 0\n",
      "Número de valores NA en la columna Station_sample: 0\n"
     ]
    }
   ],
   "source": [
    "na_counts = df_spa.select([count(when(col(c).isNull(),\n",
    "                                      c)).alias(c) for c in df_spa.columns]).collect()[0].asDict()\n",
    "\n",
    "# Imprime el conteo de valores NA por columna\n",
    "for column, na_count in na_counts.items():\n",
    "    print(f\"Número de valores NA en la columna {column}: {na_count}\")"
   ]
  },
  {
   "cell_type": "code",
   "execution_count": 18,
   "id": "60737185",
   "metadata": {},
   "outputs": [],
   "source": [
    "#### Posiblemente algunas especies esten mal escritas o duplicadas por error en typing then...\n",
    "#unique_species = df_spa.select(\"Species\").distinct().collect()\n",
    "#print(unique_species)"
   ]
  },
  {
   "cell_type": "code",
   "execution_count": 19,
   "id": "b6f96961",
   "metadata": {},
   "outputs": [],
   "source": [
    "#unique_species = [row['Species'] for row in unique_species]"
   ]
  },
  {
   "cell_type": "code",
   "execution_count": 20,
   "id": "7776b6c2",
   "metadata": {},
   "outputs": [],
   "source": [
    "#import csv\n",
    "#with open('unique_speciesk.csv', 'w', newline='', encoding='utf-8') as file:\n",
    "#    writer = csv.writer(file)\n",
    "#    writer.writerow(['Species'])  # escribir el encabezado\n",
    "#    for species in unique_species:\n",
    "#        writer.writerow([species])"
   ]
  },
  {
   "cell_type": "code",
   "execution_count": 18,
   "id": "9a0a78e5",
   "metadata": {},
   "outputs": [],
   "source": [
    "#########################################################################################\n",
    "specie_colum = spark.read.option('header', 'true').csv('updated_species.csv', \n",
    "                                                   header=True, inferSchema=True)"
   ]
  },
  {
   "cell_type": "code",
   "execution_count": 19,
   "id": "f024853c",
   "metadata": {},
   "outputs": [],
   "source": [
    "\n",
    "df_spa_updated = df_spa.join(specie_colum, df_spa[\"Species\"] == specie_colum[\"Species1\"], \"left\")\n",
    "df_spa_updated = df_spa_updated.withColumn(\"Species\", coalesce(col(\"Species_new\"), col(\"Species\")))\n",
    "df_sp = df_spa_updated.drop(\"Species_new\", \"Species1\")\n",
    "df_sp = df_sp.filter(~(col(\"Species\").isin([\"Buscar\", \"buscar\"])))"
   ]
  },
  {
   "cell_type": "code",
   "execution_count": 20,
   "id": "436edb64",
   "metadata": {},
   "outputs": [
    {
     "name": "stdout",
     "output_type": "stream",
     "text": [
      "+-------+-------+---------+----+-----+---+---+-----------+-----------+-----------+--------------------+-------------+----+------------+--------------+-------------+-------------+------------+------+-----+------------+--------------+---------------+---------+-----------------+------------------+--------+---------+---------+---------+------+------+------+------+--------+------+------+------+------+--------+--------+---------+-----+-----+--------+-----+---------+----+--------------+\n",
      "|Station|Entrada|     Date|Year|month|Day| ID|      Order|     Family|      Genus|             Species|code _Species|Mass|Culmen_Total|Culmen_Exposed|PW bill_width|PH bill_depth|Culmen_gapes|Tarsus|Halux|Nail_1finger|feet_extension|Central_rectrix|Wing_cord|          Latitud|          Longitud|lossyear|treecover|    bio_1|   bio_10|bio_11|bio_12|bio_13|bio_14|  bio_15|bio_16|bio_17|bio_18|bio_19|   bio_2|   bio_3|    bio_4|bio_5|bio_6|   bio_7|bio_8|    bio_9|elev|Station_sample|\n",
      "+-------+-------+---------+----+-----+---+---+-----------+-----------+-----------+--------------------+-------------+----+------------+--------------+-------------+-------------+------------+------+-----+------------+--------------+---------------+---------+-----------------+------------------+--------+---------+---------+---------+------+------+------+------+--------+------+------+------+------+--------+--------+---------+-----+-----+--------+-----+---------+----+--------------+\n",
      "|   TA01|    621|25-Feb-14|2014|  Feb| 25|  1|Apodiformes|Trochilidae|Phaethornis|Phaethornis syrma...|         TBHE|6.32|          40|          39.9|          3.9|            3|        null|  null| null|        null|          null|             70|       64|5.223194444444444|-76.07793059868916|       0|       95|19.033333|19.383333|  18.8|2965.0| 416.0| 152.0|34.28378| 970.0| 532.0| 875.0| 970.0|7.816667|90.89148|23.580935| 23.3| 14.7|8.599999| 18.8|18.983334|1493|           S20|\n",
      "|   TA01|    621|25-Feb-14|2014|  Feb| 25|  1|Apodiformes|Trochilidae|Phaethornis|Phaethornis syrma...|         TBHE|6.32|          40|          39.9|          3.9|            3|        null|  null| null|        null|          null|             70|       64|5.222503461438818|-76.07804003964577|       0|       95|19.033333|19.383333|  18.8|2965.0| 416.0| 152.0|34.28378| 970.0| 532.0| 875.0| 970.0|7.816667|90.89148|23.580935| 23.3| 14.7|8.599999| 18.8|18.983334|1493|           S19|\n",
      "+-------+-------+---------+----+-----+---+---+-----------+-----------+-----------+--------------------+-------------+----+------------+--------------+-------------+-------------+------------+------+-----+------------+--------------+---------------+---------+-----------------+------------------+--------+---------+---------+---------+------+------+------+------+--------+------+------+------+------+--------+--------+---------+-----+-----+--------+-----+---------+----+--------------+\n",
      "only showing top 2 rows\n",
      "\n"
     ]
    }
   ],
   "source": [
    "df_sp.show(2)"
   ]
  },
  {
   "cell_type": "code",
   "execution_count": 21,
   "id": "623a12df",
   "metadata": {},
   "outputs": [],
   "source": [
    "## Sera mejor eliminar los espacios y solo usar _ para genero y epiteto especifico\n",
    "df_sp = df_sp.withColumn(\"Species\", regexp_replace(col(\"Species\"), \" \", \"_\"))\n",
    "#df_sp.show(3)"
   ]
  },
  {
   "cell_type": "code",
   "execution_count": 22,
   "id": "5271e294",
   "metadata": {},
   "outputs": [
    {
     "name": "stdout",
     "output_type": "stream",
     "text": [
      "[Row(Species='Phylloscartes_ophthalmicus'), Row(Species='Habia_cristata'), Row(Species='Picumnus_cinnamomeus'), Row(Species='Myrmotherulia_schisticolor'), Row(Species='Haplophaedia_aureliae'), Row(Species='Tangara_labradorides'), Row(Species='Creurgops_verticalis'), Row(Species='Troglodytes_aedon'), Row(Species='Myadestes_ralloides'), Row(Species='Thripadectes_holostictus'), Row(Species='Aulacorhynchus_prasinus'), Row(Species='Catharus_minimus'), Row(Species='Clibanornis_rubiginosus'), Row(Species='Xenops_MInutus'), Row(Species='Myrmotherula_schiticolor'), Row(Species='Veniliornis_dignus'), Row(Species='Aglaiocercus_coelestis'), Row(Species='Oreothraupis_arremonops'), Row(Species='Thripadectes_ignobilis'), Row(Species='Chlorospingus_semifuscus'), Row(Species='Psarocolius_wagleri'), Row(Species='Myiothlypis_fulvicauda'), Row(Species='Xiphorhynchus_triangularis'), Row(Species='Arremon_castaneiceps'), Row(Species='Platyrinchus_coronatus'), Row(Species='Catamblyrhynchus_diadema'), Row(Species='Formicarius_rufipectus'), Row(Species='Momotus_aequatorialis'), Row(Species='Veniliornis_affinis'), Row(Species='Xenops_rutilans'), Row(Species='Philydor_rufum'), Row(Species='Margarornis_stellatus'), Row(Species='Pseudocolaptes_lawrencii'), Row(Species='Eubucco_bourcierii'), Row(Species='Cyphorhinus_thoracicus'), Row(Species='Lophotriccus_pileatus'), Row(Species='Coeligena_coeligena'), Row(Species='Sporophila_luctuosa'), Row(Species='Dysithamnus_occidentalis'), Row(Species='Synallaxis_brachyura'), Row(Species='Eriocnemis_vestita'), Row(Species='Margarornis_squamiger'), Row(Species='Piranga_rubra'), Row(Species='Rupicola_peruvianus'), Row(Species='Thripadectes_flammulatus'), Row(Species='Basileuterus_tristriatus'), Row(Species='Cantorchilus_nigricapillus'), Row(Species='Heliangelus_exortis'), Row(Species='Thraupis_cyanocephala'), Row(Species='Troglodytes_solstitialis'), Row(Species='Phaetornis_syrmatophorus'), Row(Species='Microbates_cinereiventris'), Row(Species='Phaethornis_guy'), Row(Species='Drymotoxeres_pucheranii'), Row(Species='Heliodoxa_imperatrix'), Row(Species='Sporophila_sp.'), Row(Species='Synallaxis_unirufa'), Row(Species='Mionectes_striaticollis'), Row(Species='Cinnycerthia_unirufa'), Row(Species='Pachyramphus_versicolor'), Row(Species='Phyllomyias_cinereiceps'), Row(Species='Malacoptila_mystacalis'), Row(Species='Atlapetes_albinucha'), Row(Species='Ramphocelus_flammigerus'), Row(Species='Zentrygon_frenata'), Row(Species='Xiphorhynchus_erythropygius'), Row(Species='Scytalopus_vicinior'), Row(Species='Myiarchus_tuberculifer'), Row(Species='Atlapetes_tricolor'), Row(Species='Stilpnia_cyanicollis'), Row(Species='Tangara_arthus'), Row(Species='Doryfera_ludovicae'), Row(Species='Cyanolyca_pulchra'), Row(Species='Dromococcyx_pavoninus'), Row(Species='Cercomacroides_parkeri'), Row(Species='Grallaricula_flavirostris'), Row(Species='Ochthoeca_diadema'), Row(Species='Haplospiza_rustica'), Row(Species='Henicorhina_leucosticta'), Row(Species='Myiotriccus_ornatus'), Row(Species='Trogon_collaris'), Row(Species='Campephilus_haematogaster'), Row(Species='Onychorhynchus_coronatus'), Row(Species='Chlorothraupis_stolzmanni'), Row(Species='Myiothlypis_chrysogaster'), Row(Species='Chlorostilbon_mellisugus'), Row(Species='Thamnophilus_unicolor'), Row(Species='Chlorospingus_canigularis'), Row(Species='Myioborus_ornatus'), Row(Species='Grallaria_flavotincta'), Row(Species='Arremon_aurantiirostris'), Row(Species='Rhynchocyclus_brevirostris'), Row(Species='Uropsalis_lyra'), Row(Species='Tangara_icterocephala'), Row(Species='Boissonneaua_jardini'), Row(Species='Nephelomyias\\xa0pulcher'), Row(Species='Lepidocolaptes_lacrymiger'), Row(Species='Hemitriccus_granadensis'), Row(Species='Phyllomyias_nigrocapillus'), Row(Species='Diglossa_caerulescens'), Row(Species='Automolus_ochrolaemus'), Row(Species='Premnoplex_brunnescens'), Row(Species='Phaethornis_longirostris'), Row(Species='Saltator_atripennis'), Row(Species='Leptopogon_superciliaris'), Row(Species='Amazilia_franciae'), Row(Species='Zimmerius_chrysops'), Row(Species='Synallaxis_azarae'), Row(Species='Urochroa_bougueri'), Row(Species='Anabacerthia_variegaticeps'), Row(Species='Anisognathus_somptuosus'), Row(Species='Pyrrhomyias_cinnamomeus'), Row(Species='Pseudocolaptes_boissonneautii'), Row(Species='Serpophaga_cinerea'), Row(Species='Myiodynastes_chrysocephalus'), Row(Species='Nephelomyias_pulcher'), Row(Species='Glaucidium_jardinii'), Row(Species='Zonotrichia_capensis'), Row(Species='Cyclarhis_nigrirostris'), Row(Species='Coeligena_wilsoni'), Row(Species='Micromonacha_lanceolata'), Row(Species='Aulacorhynchus_haematopygus'), Row(Species='Pseudotriccus_ruficeps'), Row(Species='Pipreola_jucunda'), Row(Species='Dendrocincla_tyrannina'), Row(Species='Chlorornis_riefferii'), Row(Species='Myrmotherula_schisticolor'), Row(Species='Syndactyla_subalaris'), Row(Species='Campylorhamphus_pusillus'), Row(Species='Anisognathus_notabilis'), Row(Species='Phaethornis_syrmatophorus'), Row(Species='Turdus_leucops'), Row(Species='Microcerculus_marginatus'), Row(Species='Diglossa_gloriosissima'), Row(Species='Lafresnaya_lafresnayi'), Row(Species='Diglossa_albilatera'), Row(Species='Mitrospingus_cassinii'), Row(Species='Sporophila_nigricollis'), Row(Species='Euphonia_xanthogaster'), Row(Species='Henicorhina_leucophrys'), Row(Species='Mionectes_olivaceus'), Row(Species='Pipreola_riefferii'), Row(Species='Ochthoeca_cinnamomeiventris'), Row(Species='Scytalopus_sp.'), Row(Species='Diglossa_cyanea'), Row(Species='Anisognathus_lacrymosus'), Row(Species='Arremon_atricapillus'), Row(Species='Tangara_xanthocephala'), Row(Species='Poecilotriccus_ruficeps'), Row(Species='Rhynchocyclus_fulvipectus'), Row(Species='Ocreatus_underwoodii'), Row(Species='Trogon_personatus'), Row(Species='Malacoptila_panamensis'), Row(Species='Pseudotriccus_pelzelni'), Row(Species='Henicorhina_negreti'), Row(Species='Piaya_cayana'), Row(Species='Phaethornis_striigularis'), Row(Species='Machaeropterus_striolatus'), Row(Species='Anthracothorax_nigricollis'), Row(Species='Thalurania_colombica'), Row(Species='Stilpnia_heinei'), Row(Species='Turdus_serranus'), Row(Species='Manacus_manacus'), Row(Species='Myioborus_miniatus'), Row(Species='Hafferia_zeledoni'), Row(Species='Ramphomicron_microrhynchum'), Row(Species='Dendrocincla_fuliginosa'), Row(Species='Chlorospingus_flavigularis'), Row(Species='Schistes_albogularis'), Row(Species='Islerothraupis_luctuosa'), Row(Species='Aglaiocercus_kingii'), Row(Species='Masius_chrysopterus'), Row(Species='Myiobius_villosus'), Row(Species='Atlapetes_latinuchus'), Row(Species='Dysithamnus_mentalis'), Row(Species='Sayornis_nigricans'), Row(Species='Machaeropterus_deliciosus'), Row(Species='Bangsia_aureocincta'), Row(Species='Cyanoloxia_cyanoides'), Row(Species='Chlorochrysa_phoenicotis'), Row(Species='Nothocercus_bonapartei'), Row(Species='Turdus_flavipes'), Row(Species='Chlorophonia_pyrrhophrys'), Row(Species='Bangsia_melanochlamys'), Row(Species='Sporophila_funerea'), Row(Species='Phaethornis_yaruqui'), Row(Species='Iridosornis_porphyrocephalus'), Row(Species='Xenops_minutus'), Row(Species='Pygochelidon_cyanoleuca'), Row(Species='Sclerurus_mexicanus'), Row(Species='Diglossa_indigotica'), Row(Species='Pipreola_arcuata'), Row(Species='Setophaga_fusca'), Row(Species='Tangara_gyrola'), Row(Species='Colaptes_rubiginosus'), Row(Species='Premnornis_guttuliger'), Row(Species='Chaetocercus_mulsant'), Row(Species='Eutoxeres_aquila'), Row(Species='Turdus_ignobilis'), Row(Species='Entomodestes_coracinus'), Row(Species='Hafferia_immaculata'), Row(Species='Heliodoxa_jacula'), Row(Species='Turdus_fuscater'), Row(Species='Drymophila_striaticeps'), Row(Species='Tachyphonus_luctuosus'), Row(Species='Kleinothraupis_atropileus'), Row(Species='Sporophila_crassirostris'), Row(Species='Pheugopedius_spadix'), Row(Species='Boissonneaua_flavescens'), Row(Species='Ixothraupis_rufigula'), Row(Species='Platyrinchus_mystaceus'), Row(Species='Arremon_brunneinucha'), Row(Species='Myiophobus_flavicans'), Row(Species='Semnornis_ramphastinus'), Row(Species='Cinnycerthia_olivascens'), Row(Species='Thripadectes_virgaticeps'), Row(Species='Snowornis_cryptolophus'), Row(Species='Coeligena_torquata'), Row(Species='Empidonax_sp.'), Row(Species='Glaucidium_nubicola'), Row(Species='Micrastur_ruficollis'), Row(Species='Dryobates_fumigatus'), Row(Species='Saltator_maximus'), Row(Species='Catharus_ustulatus'), Row(Species='Conopophaga_castaneiceps'), Row(Species='Tangara_nigroviridis'), Row(Species='Scytalopus_spillmanni'), Row(Species='Glyphorynchus_spirurus')]\n"
     ]
    }
   ],
   "source": [
    "#### Solo para rectificar que los cambios estan bien y ya nos vamos con estas especies...\n",
    "unique_species = df_sp.select(\"Species\").distinct().collect()\n",
    "print(unique_species)"
   ]
  },
  {
   "cell_type": "code",
   "execution_count": 23,
   "id": "76ca2bbb",
   "metadata": {},
   "outputs": [
    {
     "name": "stdout",
     "output_type": "stream",
     "text": [
      "+-------+-------+---------+----+-----+---+---+-----------+-----------+-----------+--------------------+-------------+----+------------+--------------+-------------+-------------+------------+------+-----+------------+--------------+---------------+---------+-----------------+------------------+--------+---------+---------+---------+------+------+------+------+--------+------+------+------+------+--------+--------+---------+-----+-----+--------+-----+---------+----+--------------+\n",
      "|Station|Entrada|     Date|Year|month|Day| ID|      Order|     Family|      Genus|             Species|code _Species|Mass|Culmen_Total|Culmen_Exposed|PW bill_width|PH bill_depth|Culmen_gapes|Tarsus|Halux|Nail_1finger|feet_extension|Central_rectrix|Wing_cord|          Latitud|          Longitud|lossyear|treecover|    bio_1|   bio_10|bio_11|bio_12|bio_13|bio_14|  bio_15|bio_16|bio_17|bio_18|bio_19|   bio_2|   bio_3|    bio_4|bio_5|bio_6|   bio_7|bio_8|    bio_9|elev|Station_sample|\n",
      "+-------+-------+---------+----+-----+---+---+-----------+-----------+-----------+--------------------+-------------+----+------------+--------------+-------------+-------------+------------+------+-----+------------+--------------+---------------+---------+-----------------+------------------+--------+---------+---------+---------+------+------+------+------+--------+------+------+------+------+--------+--------+---------+-----+-----+--------+-----+---------+----+--------------+\n",
      "|   TA01|    621|25-Feb-14|2014|  Feb| 25|  1|Apodiformes|Trochilidae|Phaethornis|Phaethornis_syrma...|         TBHE|6.32|          40|          39.9|          3.9|            3|        null|  null| null|        null|          null|             70|       64|5.223194444444444|-76.07793059868916|       0|       95|19.033333|19.383333|  18.8|2965.0| 416.0| 152.0|34.28378| 970.0| 532.0| 875.0| 970.0|7.816667|90.89148|23.580935| 23.3| 14.7|8.599999| 18.8|18.983334|1493|           S20|\n",
      "|   TA01|    621|25-Feb-14|2014|  Feb| 25|  1|Apodiformes|Trochilidae|Phaethornis|Phaethornis_syrma...|         TBHE|6.32|          40|          39.9|          3.9|            3|        null|  null| null|        null|          null|             70|       64|5.222503461438818|-76.07804003964577|       0|       95|19.033333|19.383333|  18.8|2965.0| 416.0| 152.0|34.28378| 970.0| 532.0| 875.0| 970.0|7.816667|90.89148|23.580935| 23.3| 14.7|8.599999| 18.8|18.983334|1493|           S19|\n",
      "+-------+-------+---------+----+-----+---+---+-----------+-----------+-----------+--------------------+-------------+----+------------+--------------+-------------+-------------+------------+------+-----+------------+--------------+---------------+---------+-----------------+------------------+--------+---------+---------+---------+------+------+------+------+--------+------+------+------+------+--------+--------+---------+-----+-----+--------+-----+---------+----+--------------+\n",
      "only showing top 2 rows\n",
      "\n"
     ]
    }
   ],
   "source": [
    "df_sp.show(2)"
   ]
  },
  {
   "cell_type": "code",
   "execution_count": 24,
   "id": "4238a3bf",
   "metadata": {},
   "outputs": [],
   "source": [
    "df_sp = df_sp.drop(\"Wing_cord\", \"code _Species\", 'Central_rectrix', \"PW bill_width\",\n",
    "                     'feet_extension', 'Nail_1finger', 'Halux', 'Tarsus', 'Culmen_gapes' , \n",
    "                      'PH bill_depth','Culmen_Exposed',  'Culmen_Total', 'Mass')"
   ]
  },
  {
   "cell_type": "code",
   "execution_count": 25,
   "id": "9f3a810e",
   "metadata": {},
   "outputs": [
    {
     "name": "stdout",
     "output_type": "stream",
     "text": [
      "+-------+-------+---------+----+-----+---+---+-----------+-----------+-----------+--------------------+-------------+-----------------+------------------+--------+---------+---------+---------+------+------+------+------+--------+------+------+------+------+--------+--------+---------+-----+-----+--------+-----+---------+----+--------------+\n",
      "|Station|Entrada|     Date|Year|month|Day| id|      Order|     Family|      Genus|             Species|PW bill_width|          Latitud|          Longitud|lossyear|treecover|    bio_1|   bio_10|bio_11|bio_12|bio_13|bio_14|  bio_15|bio_16|bio_17|bio_18|bio_19|   bio_2|   bio_3|    bio_4|bio_5|bio_6|   bio_7|bio_8|    bio_9|elev|Station_sample|\n",
      "+-------+-------+---------+----+-----+---+---+-----------+-----------+-----------+--------------------+-------------+-----------------+------------------+--------+---------+---------+---------+------+------+------+------+--------+------+------+------+------+--------+--------+---------+-----+-----+--------+-----+---------+----+--------------+\n",
      "|   TA01|    621|25-Feb-14|2014|  Feb| 25|  0|Apodiformes|Trochilidae|Phaethornis|Phaethornis_syrma...|          3.9|5.223194444444444|-76.07793059868916|       0|       95|19.033333|19.383333|  18.8|2965.0| 416.0| 152.0|34.28378| 970.0| 532.0| 875.0| 970.0|7.816667|90.89148|23.580935| 23.3| 14.7|8.599999| 18.8|18.983334|1493|           S20|\n",
      "|   TA01|    621|25-Feb-14|2014|  Feb| 25|  1|Apodiformes|Trochilidae|Phaethornis|Phaethornis_syrma...|          3.9|5.222503461438818|-76.07804003964577|       0|       95|19.033333|19.383333|  18.8|2965.0| 416.0| 152.0|34.28378| 970.0| 532.0| 875.0| 970.0|7.816667|90.89148|23.580935| 23.3| 14.7|8.599999| 18.8|18.983334|1493|           S19|\n",
      "+-------+-------+---------+----+-----+---+---+-----------+-----------+-----------+--------------------+-------------+-----------------+------------------+--------+---------+---------+---------+------+------+------+------+--------+------+------+------+------+--------+--------+---------+-----+-----+--------+-----+---------+----+--------------+\n",
      "only showing top 2 rows\n",
      "\n"
     ]
    }
   ],
   "source": [
    "from pyspark.sql.functions import monotonically_increasing_id\n",
    "df_sp = df_sp.withColumn(\"id\", monotonically_increasing_id())\n",
    "\n",
    "df_sp.show(2)"
   ]
  },
  {
   "cell_type": "code",
   "execution_count": 26,
   "id": "d868ea24",
   "metadata": {},
   "outputs": [],
   "source": [
    "from pyspark.ml.feature import VectorAssembler, StandardScaler\n",
    "from pyspark.ml.clustering import KMeans\n",
    "from pyspark.ml.feature import PCA\n",
    "from pyspark.ml.linalg import Vectors\n",
    "import numpy as np\n",
    "import matplotlib.pyplot as plt"
   ]
  },
  {
   "cell_type": "code",
   "execution_count": 27,
   "id": "c6f4dff2",
   "metadata": {},
   "outputs": [],
   "source": [
    "columns_for_pca = [\"treecover\", \"bio_1\", \"bio_10\", \"bio_11\", \"bio_12\", \"bio_13\", \"bio_14\", \"bio_15\", \n",
    "                   \"bio_16\", \"bio_17\", \"bio_18\", \"bio_19\", \"bio_2\", \"bio_3\", \"bio_4\", \"bio_5\", \"bio_6\", \"bio_7\", \n",
    "                   \"bio_8\", \"bio_9\", \"elev\"]"
   ]
  },
  {
   "cell_type": "code",
   "execution_count": 28,
   "id": "53a12790",
   "metadata": {},
   "outputs": [],
   "source": [
    "assembler = VectorAssembler(inputCols=columns_for_pca, outputCol=\"features\")\n",
    "df_vector = assembler.transform(df_sp)"
   ]
  },
  {
   "cell_type": "code",
   "execution_count": 29,
   "id": "856ffd27",
   "metadata": {},
   "outputs": [
    {
     "name": "stdout",
     "output_type": "stream",
     "text": [
      "+-------+-------+---------+----+-----+---+---+-----------+-----------+-----------+--------------------+-------------+-----------------+------------------+--------+---------+---------+---------+------+------+------+------+--------+------+------+------+------+--------+--------+---------+-----+-----+--------+-----+---------+----+--------------+--------------------+--------------------+\n",
      "|Station|Entrada|     Date|Year|month|Day| id|      Order|     Family|      Genus|             Species|PW bill_width|          Latitud|          Longitud|lossyear|treecover|    bio_1|   bio_10|bio_11|bio_12|bio_13|bio_14|  bio_15|bio_16|bio_17|bio_18|bio_19|   bio_2|   bio_3|    bio_4|bio_5|bio_6|   bio_7|bio_8|    bio_9|elev|Station_sample|            features|      scaledFeatures|\n",
      "+-------+-------+---------+----+-----+---+---+-----------+-----------+-----------+--------------------+-------------+-----------------+------------------+--------+---------+---------+---------+------+------+------+------+--------+------+------+------+------+--------+--------+---------+-----+-----+--------+-----+---------+----+--------------+--------------------+--------------------+\n",
      "|   TA01|    621|25-Feb-14|2014|  Feb| 25|  0|Apodiformes|Trochilidae|Phaethornis|Phaethornis_syrma...|          3.9|5.223194444444444|-76.07793059868916|       0|       95|19.033333|19.383333|  18.8|2965.0| 416.0| 152.0|34.28378| 970.0| 532.0| 875.0| 970.0|7.816667|90.89148|23.580935| 23.3| 14.7|8.599999| 18.8|18.983334|1493|           S20|[95.0,19.033333,1...|[5.28145580923873...|\n",
      "|   TA01|    621|25-Feb-14|2014|  Feb| 25|  1|Apodiformes|Trochilidae|Phaethornis|Phaethornis_syrma...|          3.9|5.222503461438818|-76.07804003964577|       0|       95|19.033333|19.383333|  18.8|2965.0| 416.0| 152.0|34.28378| 970.0| 532.0| 875.0| 970.0|7.816667|90.89148|23.580935| 23.3| 14.7|8.599999| 18.8|18.983334|1493|           S19|[95.0,19.033333,1...|[5.28145580923873...|\n",
      "|   TA01|    621|25-Feb-14|2014|  Feb| 25|  2|Apodiformes|Trochilidae|Phaethornis|Phaethornis_syrma...|          3.9|5.221880116664146|-76.07835764967228|       0|       95|19.033333|19.383333|  18.8|2965.0| 416.0| 152.0|34.28378| 970.0| 532.0| 875.0| 970.0|7.816667|90.89148|23.580935| 23.3| 14.7|8.599999| 18.8|18.983334|1493|           S18|[95.0,19.033333,1...|[5.28145580923873...|\n",
      "|   TA01|    621|25-Feb-14|2014|  Feb| 25|  3|Apodiformes|Trochilidae|Phaethornis|Phaethornis_syrma...|          3.9|5.221385427450069|-76.07885233888635|       0|       90|19.033333|19.383333|  18.8|2965.0| 416.0| 152.0|34.28378| 970.0| 532.0| 875.0| 970.0|7.816667|90.89148|23.580935| 23.3| 14.7|8.599999| 18.8|18.983334|1493|           S17|[90.0,19.033333,1...|[5.00348445085774...|\n",
      "|   TA01|    621|25-Feb-14|2014|  Feb| 25|  4|Apodiformes|Trochilidae|Phaethornis|Phaethornis_syrma...|          3.9|5.221067817423564|-76.07947568366103|       0|       90|19.033333|19.383333|  18.8|2965.0| 416.0| 152.0|34.28378| 970.0| 532.0| 875.0| 970.0|7.816667|90.89148|23.580935| 23.3| 14.7|8.599999| 18.8|18.983334|1493|           S16|[90.0,19.033333,1...|[5.00348445085774...|\n",
      "|   TA01|    621|25-Feb-14|2014|  Feb| 25|  5|Apodiformes|Trochilidae|Phaethornis|Phaethornis_syrma...|          3.9|5.220958376466945|-76.08016666666666|       0|       95|19.033333|19.383333|  18.8|2965.0| 416.0| 152.0|34.28378| 970.0| 532.0| 875.0| 970.0|7.816667|90.89148|23.580935| 23.3| 14.7|8.599999| 18.8|18.983334|1493|           S15|[95.0,19.033333,1...|[5.28145580923873...|\n",
      "+-------+-------+---------+----+-----+---+---+-----------+-----------+-----------+--------------------+-------------+-----------------+------------------+--------+---------+---------+---------+------+------+------+------+--------+------+------+------+------+--------+--------+---------+-----+-----+--------+-----+---------+----+--------------+--------------------+--------------------+\n",
      "only showing top 6 rows\n",
      "\n"
     ]
    }
   ],
   "source": [
    "scaler = StandardScaler(inputCol=\"features\", outputCol=\"scaledFeatures\", withStd=True, withMean=False)\n",
    "scalerModel = scaler.fit(df_vector)\n",
    "df_scaled = scalerModel.transform(df_vector)\n",
    "df_scaled.show(6)"
   ]
  },
  {
   "cell_type": "code",
   "execution_count": 30,
   "id": "8ce7bb69",
   "metadata": {},
   "outputs": [],
   "source": [
    "n_components = len(columns_for_pca)"
   ]
  },
  {
   "cell_type": "code",
   "execution_count": 31,
   "id": "d4adb18c",
   "metadata": {},
   "outputs": [],
   "source": [
    "pca = PCA(k=n_components, inputCol=\"scaledFeatures\", outputCol=\"pcaFeatures\")\n",
    "pcaModel = pca.fit(df_scaled)\n",
    "df_pca = pcaModel.transform(df_scaled)"
   ]
  },
  {
   "cell_type": "code",
   "execution_count": 32,
   "id": "8a88dfe5",
   "metadata": {},
   "outputs": [],
   "source": [
    "# Varianza explicada por cada componente principal\n",
    "explainedVariance = pcaModel.explainedVariance\n",
    "# Varianza acumulada\n",
    "cumulativeVariance = explainedVariance.cumsum()"
   ]
  },
  {
   "cell_type": "code",
   "execution_count": 33,
   "id": "09064614",
   "metadata": {},
   "outputs": [
    {
     "name": "stdout",
     "output_type": "stream",
     "text": [
      "Varianza explicada por cada componente principal:\n",
      "[0.7432952779327794,0.12998221241187907,0.04817708788095776,0.04164101832457,0.018502906414520206,0.011051574919055781,0.0031070658744734177,0.001637100231766085,0.0010650491820818266,0.0007299359706796621,0.0004374224961990203,0.00025347735953235457,7.251391294561552e-05,3.474961683847048e-05,1.0703268831694875e-05,1.7847320080810641e-06,9.278156778362384e-08,2.4064112238068714e-08,2.625124902246856e-09,4.978739172667878e-14,2.6864249417919408e-14]\n"
     ]
    }
   ],
   "source": [
    "print(\"Varianza explicada por cada componente principal:\")\n",
    "print(explainedVariance)"
   ]
  },
  {
   "cell_type": "code",
   "execution_count": 34,
   "id": "17be9b43",
   "metadata": {},
   "outputs": [
    {
     "name": "stdout",
     "output_type": "stream",
     "text": [
      "\n",
      "Varianza acumulada:\n",
      "[0.74329528 0.87327749 0.92145458 0.9630956  0.9815985  0.99265008\n",
      " 0.99575714 0.99739424 0.99845929 0.99918923 0.99962665 0.99988013\n",
      " 0.99995264 0.99998739 0.9999981  0.99999988 0.99999997 1.\n",
      " 1.         1.         1.        ]\n"
     ]
    }
   ],
   "source": [
    "print(\"\\nVarianza acumulada:\")\n",
    "print(cumulativeVariance)"
   ]
  },
  {
   "cell_type": "code",
   "execution_count": 36,
   "id": "7afceb6c",
   "metadata": {},
   "outputs": [
    {
     "name": "stdout",
     "output_type": "stream",
     "text": [
      "\n",
      "C90% de varianza explicada: 3\n"
     ]
    }
   ],
   "source": [
    "optimal_k = np.argmax(cumulativeVariance >= 0.90) + 1  # +1 porque los índices en Python empiezan en 0\n",
    "print(\"\\nC90% de varianza explicada:\", optimal_k)"
   ]
  },
  {
   "cell_type": "code",
   "execution_count": 47,
   "id": "c653ae19",
   "metadata": {},
   "outputs": [
    {
     "name": "stdout",
     "output_type": "stream",
     "text": [
      "+-------+-------+---------+----+-----+---+---+-----------+-----------+-----------+--------------------+-------------+-----------------+------------------+--------+---------+---------+---------+------+------+------+------+--------+------+------+------+------+--------+--------+---------+-----+-----+--------+-----+---------+----+--------------+--------------------+--------------------+--------------------+\n",
      "|Station|Entrada|     Date|Year|month|Day| id|      Order|     Family|      Genus|             Species|PW bill_width|          Latitud|          Longitud|lossyear|treecover|    bio_1|   bio_10|bio_11|bio_12|bio_13|bio_14|  bio_15|bio_16|bio_17|bio_18|bio_19|   bio_2|   bio_3|    bio_4|bio_5|bio_6|   bio_7|bio_8|    bio_9|elev|Station_sample|            features|      scaledFeatures|         pcaFeatures|\n",
      "+-------+-------+---------+----+-----+---+---+-----------+-----------+-----------+--------------------+-------------+-----------------+------------------+--------+---------+---------+---------+------+------+------+------+--------+------+------+------+------+--------+--------+---------+-----+-----+--------+-----+---------+----+--------------+--------------------+--------------------+--------------------+\n",
      "|   TA01|    621|25-Feb-14|2014|  Feb| 25|  0|Apodiformes|Trochilidae|Phaethornis|Phaethornis_syrma...|          3.9|5.223194444444444|-76.07793059868916|       0|       95|19.033333|19.383333|  18.8|2965.0| 416.0| 152.0|34.28378| 970.0| 532.0| 875.0| 970.0|7.816667|90.89148|23.580935| 23.3| 14.7|8.599999| 18.8|18.983334|1493|           S20|[95.0,19.033333,1...|[5.28145580923873...|[56.0384615290574...|\n",
      "|   TA01|    621|25-Feb-14|2014|  Feb| 25|  1|Apodiformes|Trochilidae|Phaethornis|Phaethornis_syrma...|          3.9|5.222503461438818|-76.07804003964577|       0|       95|19.033333|19.383333|  18.8|2965.0| 416.0| 152.0|34.28378| 970.0| 532.0| 875.0| 970.0|7.816667|90.89148|23.580935| 23.3| 14.7|8.599999| 18.8|18.983334|1493|           S19|[95.0,19.033333,1...|[5.28145580923873...|[56.0384615290574...|\n",
      "+-------+-------+---------+----+-----+---+---+-----------+-----------+-----------+--------------------+-------------+-----------------+------------------+--------+---------+---------+---------+------+------+------+------+--------+------+------+------+------+--------+--------+---------+-----+-----+--------+-----+---------+----+--------------+--------------------+--------------------+--------------------+\n",
      "only showing top 2 rows\n",
      "\n"
     ]
    }
   ],
   "source": [
    "######################################################################################333\n",
    "df_pca.show(2)"
   ]
  },
  {
   "cell_type": "code",
   "execution_count": null,
   "id": "0721f17b",
   "metadata": {},
   "outputs": [],
   "source": []
  },
  {
   "cell_type": "code",
   "execution_count": 48,
   "id": "23fc56aa",
   "metadata": {},
   "outputs": [],
   "source": [
    "# Ensamblar solo las columnas que se utilizarán para PCA\n",
    "assembler = VectorAssembler(inputCols=columns_for_pca, outputCol=\"features\")\n",
    "df_vector = assembler.transform(df_sp)"
   ]
  },
  {
   "cell_type": "code",
   "execution_count": 49,
   "id": "db59a1a8",
   "metadata": {},
   "outputs": [],
   "source": [
    "scaler = StandardScaler(inputCol=\"features\", outputCol=\"scaledFeatures\", withStd=True, withMean=False)\n",
    "scalerModel = scaler.fit(df_vector)\n",
    "df_scaled = scalerModel.transform(df_vector)"
   ]
  },
  {
   "cell_type": "code",
   "execution_count": 50,
   "id": "c646a681",
   "metadata": {},
   "outputs": [],
   "source": [
    "pca = PCA(k=3, inputCol=\"scaledFeatures\", outputCol=\"pcaFeatures\")\n",
    "pcaModel = pca.fit(df_scaled)\n",
    "df_pca = pcaModel.transform(df_scaled)"
   ]
  },
  {
   "cell_type": "code",
   "execution_count": 55,
   "id": "0289da1f",
   "metadata": {},
   "outputs": [
    {
     "name": "stdout",
     "output_type": "stream",
     "text": [
      "+-----------------------------------------------------------+\n",
      "|pcaFeatures                                                |\n",
      "+-----------------------------------------------------------+\n",
      "|[56.038461529057415,-11.052202954735705,21.779740548918824]|\n",
      "|[56.038461529057415,-11.052202954735705,21.779740548918824]|\n",
      "|[56.038461529057415,-11.052202954735705,21.779740548918824]|\n",
      "|[56.037949245249855,-11.078376771435948,21.522740004571258]|\n",
      "|[56.037949245249855,-11.078376771435948,21.522740004571258]|\n",
      "|[56.038461529057415,-11.052202954735705,21.779740548918824]|\n",
      "|[56.037949245249855,-11.078376771435948,21.522740004571258]|\n",
      "|[56.02975270432888,-11.497157838639826,17.410731295010205] |\n",
      "|[56.02872813671375,-11.54950547204031,16.89673020631507]   |\n",
      "|[56.037949245249855,-11.078376771435948,21.522740004571258]|\n",
      "|[56.037949245249855,-11.078376771435948,21.522740004571258]|\n",
      "|[56.02934287728283,-11.51809689200002,17.20513085953215]   |\n",
      "|[56.03251903688971,-11.355819228458518,18.798534234487057] |\n",
      "|[56.037949245249855,-11.078376771435948,21.522740004571258]|\n",
      "|[54.59309908144201,-15.700881425299293,22.23430700608372]  |\n",
      "|[54.59309908144201,-15.700881425299293,22.23430700608372]  |\n",
      "|[54.59309908144201,-15.700881425299293,22.23430700608372]  |\n",
      "|[56.038461529057415,-11.052202954735705,21.779740548918824]|\n",
      "|[56.038461529057415,-11.052202954735705,21.779740548918824]|\n",
      "|[56.038461529057415,-11.052202954735705,21.779740548918824]|\n",
      "+-----------------------------------------------------------+\n",
      "only showing top 20 rows\n",
      "\n"
     ]
    }
   ],
   "source": [
    "df_pca.select(\"pcaFeatures\").show(truncate=False)"
   ]
  },
  {
   "cell_type": "code",
   "execution_count": 52,
   "id": "a861b9dd",
   "metadata": {},
   "outputs": [],
   "source": [
    "\n",
    "from pyspark.ml.clustering import KMeans"
   ]
  },
  {
   "cell_type": "code",
   "execution_count": 56,
   "id": "a0f66087",
   "metadata": {},
   "outputs": [],
   "source": []
  },
  {
   "cell_type": "code",
   "execution_count": 60,
   "id": "ec8bf96d",
   "metadata": {},
   "outputs": [],
   "source": [
    "k = 3\n",
    "\n",
    "# Configura KMeans para que utilice la columna 'pcaFeatures'\n",
    "kmeans = KMeans().setK(k).setSeed(123).setFeaturesCol(\"pcaFeatures\")\n",
    "\n",
    "# Ajusta el modelo KMeans utilizando solo las columnas 'id' y 'pcaFeatures'\n",
    "model = kmeans.fit(df_pca.select('id', 'pcaFeatures'))\n",
    "\n",
    "# Realiza las predicciones\n",
    "predictions = model.transform(df_pca.select('id', 'pcaFeatures'))\n",
    "\n",
    "# Une las predicciones con el DataFrame original para añadir la columna de predicciones\n",
    "df_sp_with_predictions = df_sp.join(predictions, 'id')\n"
   ]
  },
  {
   "cell_type": "code",
   "execution_count": 64,
   "id": "eb40b6d0",
   "metadata": {},
   "outputs": [
    {
     "name": "stdout",
     "output_type": "stream",
     "text": [
      "Coeficiente de silueta: 0.7635437048318442\n",
      "Inercia: 259979.75872146673\n"
     ]
    }
   ],
   "source": [
    "from pyspark.ml.evaluation import ClusteringEvaluator\n",
    "\n",
    "# Suponiendo que 'model' es el modelo KMeans ya ajustado y 'predictions' contiene las predicciones\n",
    "\n",
    "# Inercia (coste de entrenamiento)\n",
    "inertia = model.summary.trainingCost\n",
    "\n",
    "# Coeficiente de silueta\n",
    "evaluator = ClusteringEvaluator(featuresCol=\"pcaFeatures\")\n",
    "silhouette = evaluator.evaluate(predictions)\n",
    "\n",
    "print(\"Coeficiente de silueta:\", silhouette)\n",
    "\n",
    "print(\"Inercia:\", inertia)"
   ]
  },
  {
   "cell_type": "code",
   "execution_count": 66,
   "id": "3a424016",
   "metadata": {},
   "outputs": [
    {
     "name": "stdout",
     "output_type": "stream",
     "text": [
      "+---+-------+-------+---------+----+-----+---+-------------+----------+---------+--------------------+-------------+-----------------+------------------+--------+---------+---------+---------+------+------+------+------+--------+------+------+------+------+--------+--------+---------+-----+-----+--------+-----+---------+----+--------------+--------------------+----------+\n",
      "| id|Station|Entrada|     Date|Year|month|Day|        Order|    Family|    Genus|             Species|PW bill_width|          Latitud|          Longitud|lossyear|treecover|    bio_1|   bio_10|bio_11|bio_12|bio_13|bio_14|  bio_15|bio_16|bio_17|bio_18|bio_19|   bio_2|   bio_3|    bio_4|bio_5|bio_6|   bio_7|bio_8|    bio_9|elev|Station_sample|         pcaFeatures|prediction|\n",
      "+---+-------+-------+---------+----+-----+---+-------------+----------+---------+--------------------+-------------+-----------------+------------------+--------+---------+---------+---------+------+------+------+------+--------+------+------+------+------+--------+--------+---------+-----+-----+--------+-----+---------+----+--------------+--------------------+----------+\n",
      "| 26|   TA01|    622|25-Feb-14|2014|  Feb| 25|Passeriformes|Tyrannidae|Mionectes|Mionectes_striati...|          4.5|5.220958376466945|-76.08016666666666|       0|       95|19.033333|19.383333|  18.8|2965.0| 416.0| 152.0|34.28378| 970.0| 532.0| 875.0| 970.0|7.816667|90.89148|23.580935| 23.3| 14.7|8.599999| 18.8|18.983334|1493|           S15|[56.0384615290574...|         0|\n",
      "| 29|   TA01|    622|25-Feb-14|2014|  Feb| 25|Passeriformes|Tyrannidae|Mionectes|Mionectes_striati...|          4.5|5.221880116664146|-76.08197568366103|       0|        0|19.033333|19.383333|  18.8|2965.0| 416.0| 152.0|34.28378| 970.0| 532.0| 875.0| 970.0|7.816667|90.89148|23.580935| 23.3| 14.7|8.599999| 18.8|18.983334|1493|           S12|[56.0287281367137...|         0|\n",
      "|474|   TA01|    643|26-Feb-14|2014|  Feb| 26|Passeriformes|Thraupidae|  Tangara|      Tangara_arthus|          7.8|5.224508772224742|-76.08197568366103|       0|       37|19.033333|19.383333|  18.8|2965.0| 416.0| 152.0|34.28378| 970.0| 532.0| 875.0| 970.0|7.816667|90.89148|23.580935| 23.3| 14.7|8.599999| 18.8|18.983334|1493|            S8|[56.0325190368897...|         0|\n",
      "|964|   TA01|    667|26-Feb-14|2014|  Feb| 26|Passeriformes|Cotingidae| Rupicola| Rupicola_peruvianus|         11.7| 5.22388542745007|-76.07804003964577|       0|       95|19.033333|19.383333|  18.8|2965.0| 416.0| 152.0|34.28378| 970.0| 532.0| 875.0| 970.0|7.816667|90.89148|23.580935| 23.3| 14.7|8.599999| 18.8|18.983334|1493|            S1|[56.0384615290574...|         0|\n",
      "+---+-------+-------+---------+----+-----+---+-------------+----------+---------+--------------------+-------------+-----------------+------------------+--------+---------+---------+---------+------+------+------+------+--------+------+------+------+------+--------+--------+---------+-----+-----+--------+-----+---------+----+--------------+--------------------+----------+\n",
      "only showing top 4 rows\n",
      "\n"
     ]
    }
   ],
   "source": [
    "# Muestra las primeras filas con las predicciones añadidas\n",
    "df_sp_with_predictions.show(4)"
   ]
  },
  {
   "cell_type": "code",
   "execution_count": 67,
   "id": "3137a0be",
   "metadata": {},
   "outputs": [],
   "source": [
    "df_pandas = df_sp_with_predictions.toPandas()\n",
    "\n",
    "# Separar características y etiquetas\n",
    "X = df_pandas[['treecover', 'bio_1', 'bio_10', 'bio_11', 'bio_12', 'bio_13', 'bio_14', 'bio_15', 'bio_16', 'bio_17', 'bio_18', 'bio_19', 'bio_2', 'bio_3', 'bio_4', 'bio_5', 'bio_6', 'bio_7', 'bio_8', 'bio_9', 'elev']]\n",
    "y = df_pandas['prediction']"
   ]
  },
  {
   "cell_type": "code",
   "execution_count": 107,
   "id": "640cab30",
   "metadata": {},
   "outputs": [
    {
     "data": {
      "text/html": [
       "<div>\n",
       "<style scoped>\n",
       "    .dataframe tbody tr th:only-of-type {\n",
       "        vertical-align: middle;\n",
       "    }\n",
       "\n",
       "    .dataframe tbody tr th {\n",
       "        vertical-align: top;\n",
       "    }\n",
       "\n",
       "    .dataframe thead th {\n",
       "        text-align: right;\n",
       "    }\n",
       "</style>\n",
       "<table border=\"1\" class=\"dataframe\">\n",
       "  <thead>\n",
       "    <tr style=\"text-align: right;\">\n",
       "      <th></th>\n",
       "      <th>treecover</th>\n",
       "      <th>bio_1</th>\n",
       "      <th>bio_10</th>\n",
       "      <th>bio_11</th>\n",
       "      <th>bio_12</th>\n",
       "      <th>bio_13</th>\n",
       "      <th>bio_14</th>\n",
       "      <th>bio_15</th>\n",
       "      <th>bio_16</th>\n",
       "      <th>bio_17</th>\n",
       "      <th>...</th>\n",
       "      <th>bio_19</th>\n",
       "      <th>bio_2</th>\n",
       "      <th>bio_3</th>\n",
       "      <th>bio_4</th>\n",
       "      <th>bio_5</th>\n",
       "      <th>bio_6</th>\n",
       "      <th>bio_7</th>\n",
       "      <th>bio_8</th>\n",
       "      <th>bio_9</th>\n",
       "      <th>elev</th>\n",
       "    </tr>\n",
       "  </thead>\n",
       "  <tbody>\n",
       "    <tr>\n",
       "      <th>0</th>\n",
       "      <td>95</td>\n",
       "      <td>19.033333</td>\n",
       "      <td>19.383333</td>\n",
       "      <td>18.8</td>\n",
       "      <td>2965.0</td>\n",
       "      <td>416.0</td>\n",
       "      <td>152.0</td>\n",
       "      <td>34.28378</td>\n",
       "      <td>970.0</td>\n",
       "      <td>532.0</td>\n",
       "      <td>...</td>\n",
       "      <td>970.0</td>\n",
       "      <td>7.816667</td>\n",
       "      <td>90.89148</td>\n",
       "      <td>23.580935</td>\n",
       "      <td>23.3</td>\n",
       "      <td>14.7</td>\n",
       "      <td>8.599999</td>\n",
       "      <td>18.8</td>\n",
       "      <td>18.983334</td>\n",
       "      <td>1493</td>\n",
       "    </tr>\n",
       "    <tr>\n",
       "      <th>1</th>\n",
       "      <td>0</td>\n",
       "      <td>19.033333</td>\n",
       "      <td>19.383333</td>\n",
       "      <td>18.8</td>\n",
       "      <td>2965.0</td>\n",
       "      <td>416.0</td>\n",
       "      <td>152.0</td>\n",
       "      <td>34.28378</td>\n",
       "      <td>970.0</td>\n",
       "      <td>532.0</td>\n",
       "      <td>...</td>\n",
       "      <td>970.0</td>\n",
       "      <td>7.816667</td>\n",
       "      <td>90.89148</td>\n",
       "      <td>23.580935</td>\n",
       "      <td>23.3</td>\n",
       "      <td>14.7</td>\n",
       "      <td>8.599999</td>\n",
       "      <td>18.8</td>\n",
       "      <td>18.983334</td>\n",
       "      <td>1493</td>\n",
       "    </tr>\n",
       "    <tr>\n",
       "      <th>2</th>\n",
       "      <td>37</td>\n",
       "      <td>19.033333</td>\n",
       "      <td>19.383333</td>\n",
       "      <td>18.8</td>\n",
       "      <td>2965.0</td>\n",
       "      <td>416.0</td>\n",
       "      <td>152.0</td>\n",
       "      <td>34.28378</td>\n",
       "      <td>970.0</td>\n",
       "      <td>532.0</td>\n",
       "      <td>...</td>\n",
       "      <td>970.0</td>\n",
       "      <td>7.816667</td>\n",
       "      <td>90.89148</td>\n",
       "      <td>23.580935</td>\n",
       "      <td>23.3</td>\n",
       "      <td>14.7</td>\n",
       "      <td>8.599999</td>\n",
       "      <td>18.8</td>\n",
       "      <td>18.983334</td>\n",
       "      <td>1493</td>\n",
       "    </tr>\n",
       "    <tr>\n",
       "      <th>3</th>\n",
       "      <td>95</td>\n",
       "      <td>19.033333</td>\n",
       "      <td>19.383333</td>\n",
       "      <td>18.8</td>\n",
       "      <td>2965.0</td>\n",
       "      <td>416.0</td>\n",
       "      <td>152.0</td>\n",
       "      <td>34.28378</td>\n",
       "      <td>970.0</td>\n",
       "      <td>532.0</td>\n",
       "      <td>...</td>\n",
       "      <td>970.0</td>\n",
       "      <td>7.816667</td>\n",
       "      <td>90.89148</td>\n",
       "      <td>23.580935</td>\n",
       "      <td>23.3</td>\n",
       "      <td>14.7</td>\n",
       "      <td>8.599999</td>\n",
       "      <td>18.8</td>\n",
       "      <td>18.983334</td>\n",
       "      <td>1493</td>\n",
       "    </tr>\n",
       "    <tr>\n",
       "      <th>4</th>\n",
       "      <td>95</td>\n",
       "      <td>19.033333</td>\n",
       "      <td>19.383333</td>\n",
       "      <td>18.8</td>\n",
       "      <td>2965.0</td>\n",
       "      <td>416.0</td>\n",
       "      <td>152.0</td>\n",
       "      <td>34.28378</td>\n",
       "      <td>970.0</td>\n",
       "      <td>532.0</td>\n",
       "      <td>...</td>\n",
       "      <td>970.0</td>\n",
       "      <td>7.816667</td>\n",
       "      <td>90.89148</td>\n",
       "      <td>23.580935</td>\n",
       "      <td>23.3</td>\n",
       "      <td>14.7</td>\n",
       "      <td>8.599999</td>\n",
       "      <td>18.8</td>\n",
       "      <td>18.983334</td>\n",
       "      <td>1493</td>\n",
       "    </tr>\n",
       "  </tbody>\n",
       "</table>\n",
       "<p>5 rows × 21 columns</p>\n",
       "</div>"
      ],
      "text/plain": [
       "   treecover      bio_1     bio_10  bio_11  bio_12  bio_13  bio_14    bio_15  \\\n",
       "0         95  19.033333  19.383333    18.8  2965.0   416.0   152.0  34.28378   \n",
       "1          0  19.033333  19.383333    18.8  2965.0   416.0   152.0  34.28378   \n",
       "2         37  19.033333  19.383333    18.8  2965.0   416.0   152.0  34.28378   \n",
       "3         95  19.033333  19.383333    18.8  2965.0   416.0   152.0  34.28378   \n",
       "4         95  19.033333  19.383333    18.8  2965.0   416.0   152.0  34.28378   \n",
       "\n",
       "   bio_16  bio_17  ...  bio_19     bio_2     bio_3      bio_4  bio_5  bio_6  \\\n",
       "0   970.0   532.0  ...   970.0  7.816667  90.89148  23.580935   23.3   14.7   \n",
       "1   970.0   532.0  ...   970.0  7.816667  90.89148  23.580935   23.3   14.7   \n",
       "2   970.0   532.0  ...   970.0  7.816667  90.89148  23.580935   23.3   14.7   \n",
       "3   970.0   532.0  ...   970.0  7.816667  90.89148  23.580935   23.3   14.7   \n",
       "4   970.0   532.0  ...   970.0  7.816667  90.89148  23.580935   23.3   14.7   \n",
       "\n",
       "      bio_7  bio_8      bio_9  elev  \n",
       "0  8.599999   18.8  18.983334  1493  \n",
       "1  8.599999   18.8  18.983334  1493  \n",
       "2  8.599999   18.8  18.983334  1493  \n",
       "3  8.599999   18.8  18.983334  1493  \n",
       "4  8.599999   18.8  18.983334  1493  \n",
       "\n",
       "[5 rows x 21 columns]"
      ]
     },
     "execution_count": 107,
     "metadata": {},
     "output_type": "execute_result"
    }
   ],
   "source": [
    "X.head()"
   ]
  },
  {
   "cell_type": "code",
   "execution_count": 91,
   "id": "162703f1",
   "metadata": {},
   "outputs": [],
   "source": [
    "import xgboost as xgb\n",
    "from hyperopt import hp, fmin, tpe, STATUS_OK, Trials\n",
    "from sklearn.metrics import mean_squared_error\n",
    "from sklearn.model_selection import train_test_split\n",
    "import numpy as np\n",
    "from hyperopt import fmin, tpe, hp, STATUS_OK, Trials"
   ]
  },
  {
   "cell_type": "code",
   "execution_count": 88,
   "id": "d968c5b1",
   "metadata": {},
   "outputs": [],
   "source": [
    "X_train, X_test, y_train, y_test = train_test_split(X, y, test_size=0.2, random_state=42)\n",
    "\n",
    "# Convertir los conjuntos a DMatrix, que es el formato preferido por XGBoost\n",
    "dtrain = xgb.DMatrix(X_train, label=y_train)\n",
    "dtest = xgb.DMatrix(X_test, label=y_test)\n"
   ]
  },
  {
   "cell_type": "code",
   "execution_count": 92,
   "id": "d40588ea",
   "metadata": {},
   "outputs": [],
   "source": [
    "from sklearn.metrics import f1_score\n",
    "\n"
   ]
  },
  {
   "cell_type": "code",
   "execution_count": 93,
   "id": "3621e01f",
   "metadata": {},
   "outputs": [
    {
     "name": "stdout",
     "output_type": "stream",
     "text": [
      "100%|██████████| 100/100 [03:04<00:00,  1.84s/trial, best loss: 0.7035852236355664]\n",
      "Los mejores hiperparámetros son:  {'alpha': 0.6590523500251971, 'eta': 0.16275265224049576, 'lambda': 0.0033755891434843924, 'max_depth': 12}\n"
     ]
    }
   ],
   "source": [
    "def objective(space):\n",
    "    clf = xgb.train(space, dtrain, num_boost_round=1000, evals=[(dtest, \"test\")], early_stopping_rounds=30, verbose_eval=False)\n",
    "    \n",
    "    preds = clf.predict(dtest)\n",
    "    # Asegúrate de que 'preds' sean las clases predichas para calcular F1-score\n",
    "    preds = np.asarray([np.argmax(line) for line in preds])\n",
    "    f1 = f1_score(y_test, preds, average='weighted')  # 'weighted' considera el desbalance de clases\n",
    "    \n",
    "    # Hyperopt minimiza la función objetivo; se retorna 1 - F1 para maximizar el F1-score\n",
    "    return {'loss': 1 - f1, 'status': STATUS_OK}\n",
    "\n",
    "space = {\n",
    "    'max_depth': hp.choice('max_depth', np.arange(1, 14, dtype=int)),\n",
    "    'eta': hp.uniform('eta', 0.01, 0.3),\n",
    "    'objective': 'multi:softmax',\n",
    "    'num_class': 3,\n",
    "    'lambda': hp.uniform('lambda', 1e-8, 1.0),  # Regularización L2\n",
    "    'alpha': hp.uniform('alpha', 1e-8, 1.0)  # Regularización L1\n",
    "}\n",
    "\n",
    "trials = Trials()\n",
    "best_hyperparams = fmin(fn=objective,\n",
    "                        space=space,\n",
    "                        algo=tpe.suggest,\n",
    "                        max_evals=100,\n",
    "                        trials=trials)\n",
    "\n",
    "print(\"Los mejores hiperparámetros son: \", best_hyperparams)"
   ]
  },
  {
   "cell_type": "code",
   "execution_count": 94,
   "id": "5103e03c",
   "metadata": {},
   "outputs": [],
   "source": [
    "import joblib"
   ]
  },
  {
   "cell_type": "code",
   "execution_count": 95,
   "id": "49936b16",
   "metadata": {},
   "outputs": [],
   "source": [
    "final_params = {\n",
    "    'max_depth': 12,\n",
    "    'eta': 0.16275265224049576,\n",
    "    'objective': 'multi:softmax',\n",
    "    'num_class': 3,\n",
    "    'lambda': 0.0033755891434843924,\n",
    "    'alpha': 0.6590523500251971\n",
    "}"
   ]
  },
  {
   "cell_type": "code",
   "execution_count": 96,
   "id": "e1237cf6",
   "metadata": {},
   "outputs": [
    {
     "data": {
      "text/plain": [
       "['xgboost_aves_model.dat']"
      ]
     },
     "execution_count": 96,
     "metadata": {},
     "output_type": "execute_result"
    }
   ],
   "source": [
    "final_bst = xgb.train(final_params, dtrain, num_boost_round=1000)\n",
    "\n",
    "# Guardar el modelo\n",
    "joblib.dump(final_bst, \"xgboost_aves_model.dat\")"
   ]
  },
  {
   "cell_type": "code",
   "execution_count": 147,
   "id": "30895e76",
   "metadata": {},
   "outputs": [],
   "source": [
    "import rasterio\n",
    "import os\n",
    "from rasterio.enums import Resampling"
   ]
  },
  {
   "cell_type": "code",
   "execution_count": null,
   "id": "845de614",
   "metadata": {},
   "outputs": [],
   "source": [
    "###########################################3 Mapping"
   ]
  },
  {
   "cell_type": "code",
   "execution_count": 108,
   "id": "35cefb7c",
   "metadata": {},
   "outputs": [],
   "source": [
    "xgb_model = joblib.load(\"xgboost_aves_model.dat\")\n"
   ]
  },
  {
   "cell_type": "code",
   "execution_count": 113,
   "id": "edb984cb",
   "metadata": {},
   "outputs": [],
   "source": [
    "def read_rasters_and_stack(raster_files, folder_path):\n",
    "    data = []\n",
    "    for file in raster_files:\n",
    "        with rasterio.open(os.path.join(folder_path, file)) as src:\n",
    "            band = src.read(1)  # read only the first band\n",
    "            data.append(band)\n",
    "    return np.stack(data, axis=-1)  # stack rasters"
   ]
  },
  {
   "cell_type": "code",
   "execution_count": 114,
   "id": "619cc439",
   "metadata": {},
   "outputs": [
    {
     "data": {
      "text/plain": [
       "['treecover',\n",
       " 'bio_1',\n",
       " 'bio_10',\n",
       " 'bio_11',\n",
       " 'bio_12',\n",
       " 'bio_13',\n",
       " 'bio_14',\n",
       " 'bio_15',\n",
       " 'bio_16',\n",
       " 'bio_17',\n",
       " 'bio_18',\n",
       " 'bio_19',\n",
       " 'bio_2',\n",
       " 'bio_3',\n",
       " 'bio_4',\n",
       " 'bio_5',\n",
       " 'bio_6',\n",
       " 'bio_7',\n",
       " 'bio_8',\n",
       " 'bio_9',\n",
       " 'elev']"
      ]
     },
     "execution_count": 114,
     "metadata": {},
     "output_type": "execute_result"
    }
   ],
   "source": [
    "nombres_columnas = X.columns.tolist()\n",
    "nombres_columnas"
   ]
  },
  {
   "cell_type": "code",
   "execution_count": 142,
   "id": "4a924aa9",
   "metadata": {},
   "outputs": [],
   "source": [
    "folder_path = 'resampled_rasters'\n",
    "\n",
    "\n",
    "raster_files = ['r_aligned_clipped_Hansen_GFC-2022-v1.10_treecover2000_10N_080W.tif',\n",
    " 'resampled_clipped_wc2.1_30s_bio_1.tif',\n",
    " 'resampled_clipped_wc2.1_30s_bio_10.tif',\n",
    " 'resampled_clipped_wc2.1_30s_bio_11.tif',\n",
    " 'resampled_clipped_wc2.1_30s_bio_12.tif',\n",
    " 'resampled_clipped_wc2.1_30s_bio_13.tif',\n",
    " 'resampled_clipped_wc2.1_30s_bio_14.tif',\n",
    " 'resampled_clipped_wc2.1_30s_bio_15.tif',\n",
    " 'resampled_clipped_wc2.1_30s_bio_16.tif',\n",
    " 'resampled_clipped_wc2.1_30s_bio_17.tif',\n",
    " 'resampled_clipped_wc2.1_30s_bio_18.tif',\n",
    " 'resampled_clipped_wc2.1_30s_bio_19.tif',\n",
    " 'resampled_clipped_wc2.1_30s_bio_2.tif',\n",
    " 'resampled_clipped_wc2.1_30s_bio_3.tif',\n",
    " 'resampled_clipped_wc2.1_30s_bio_4.tif',\n",
    " 'resampled_clipped_wc2.1_30s_bio_5.tif',\n",
    " 'resampled_clipped_wc2.1_30s_bio_6.tif',\n",
    " 'resampled_clipped_wc2.1_30s_bio_7.tif',\n",
    " 'resampled_clipped_wc2.1_30s_bio_8.tif',\n",
    " 'resampled_clipped_wc2.1_30s_bio_9.tif',\n",
    " 'resampled_clipped_wc2.1_30s_elev.tif'\n",
    "]"
   ]
  },
  {
   "cell_type": "code",
   "execution_count": 144,
   "id": "41ca188f",
   "metadata": {},
   "outputs": [
    {
     "name": "stdout",
     "output_type": "stream",
     "text": [
      "r_aligned_clipped_Hansen_GFC-2022-v1.10_treecover2000_10N_080W.tif (1634, 1534)\n",
      "resampled_clipped_wc2.1_30s_bio_1.tif (1634, 1534)\n",
      "resampled_clipped_wc2.1_30s_bio_10.tif (1634, 1534)\n",
      "resampled_clipped_wc2.1_30s_bio_11.tif (1634, 1534)\n",
      "resampled_clipped_wc2.1_30s_bio_12.tif (1634, 1534)\n",
      "resampled_clipped_wc2.1_30s_bio_13.tif (1634, 1534)\n",
      "resampled_clipped_wc2.1_30s_bio_14.tif (1634, 1534)\n",
      "resampled_clipped_wc2.1_30s_bio_15.tif (1634, 1534)\n",
      "resampled_clipped_wc2.1_30s_bio_16.tif (1634, 1534)\n",
      "resampled_clipped_wc2.1_30s_bio_17.tif (1634, 1534)\n",
      "resampled_clipped_wc2.1_30s_bio_18.tif (1634, 1534)\n",
      "resampled_clipped_wc2.1_30s_bio_19.tif (1634, 1534)\n",
      "resampled_clipped_wc2.1_30s_bio_2.tif (1634, 1534)\n",
      "resampled_clipped_wc2.1_30s_bio_3.tif (1634, 1534)\n",
      "resampled_clipped_wc2.1_30s_bio_4.tif (1634, 1534)\n",
      "resampled_clipped_wc2.1_30s_bio_5.tif (1634, 1534)\n",
      "resampled_clipped_wc2.1_30s_bio_6.tif (1634, 1534)\n",
      "resampled_clipped_wc2.1_30s_bio_7.tif (1634, 1534)\n",
      "resampled_clipped_wc2.1_30s_bio_8.tif (1634, 1534)\n",
      "resampled_clipped_wc2.1_30s_bio_9.tif (1634, 1534)\n",
      "resampled_clipped_wc2.1_30s_elev.tif (1634, 1534)\n"
     ]
    }
   ],
   "source": [
    "# Check shapes of all rasters\n",
    "for file in raster_files:\n",
    "    with rasterio.open(os.path.join(folder_path, file)) as src:\n",
    "        print(file, src.shape)"
   ]
  },
  {
   "cell_type": "code",
   "execution_count": null,
   "id": "5052d667",
   "metadata": {},
   "outputs": [],
   "source": []
  },
  {
   "cell_type": "code",
   "execution_count": 143,
   "id": "9cfe7843",
   "metadata": {},
   "outputs": [],
   "source": [
    "# Read the rasters\n",
    "raster_stack = read_rasters_and_stack(raster_files, folder_path)"
   ]
  },
  {
   "cell_type": "code",
   "execution_count": 148,
   "id": "2b650858",
   "metadata": {},
   "outputs": [],
   "source": [
    "# Reshape the raster stack for prediction\n",
    "num_features = raster_stack.shape[-1]\n",
    "raster_stack_reshaped = raster_stack.reshape(-1, num_features)"
   ]
  },
  {
   "cell_type": "code",
   "execution_count": 151,
   "id": "65c750ba",
   "metadata": {},
   "outputs": [],
   "source": [
    "feature_names = ['treecover', 'bio_1', 'bio_10', 'bio_11', 'bio_12', 'bio_13', 'bio_14', 'bio_15', 'bio_16', 'bio_17', 'bio_18', 'bio_19', 'bio_2', 'bio_3', 'bio_4', 'bio_5', 'bio_6', 'bio_7', 'bio_8', 'bio_9', 'elev']\n",
    "\n",
    "# Create the DMatrix for prediction, specifying feature names\n",
    "dtest = xgb.DMatrix(raster_stack_reshaped, feature_names=feature_names)\n",
    "\n",
    "# Predict using the model\n",
    "predictions = model.predict(dtest)"
   ]
  },
  {
   "cell_type": "code",
   "execution_count": 152,
   "id": "847eeb45",
   "metadata": {},
   "outputs": [],
   "source": [
    "predictions_reshaped = predictions.reshape(raster_stack.shape[0], raster_stack.shape[1])\n"
   ]
  },
  {
   "cell_type": "code",
   "execution_count": 153,
   "id": "4dfac78a",
   "metadata": {},
   "outputs": [],
   "source": [
    "with rasterio.open(os.path.join(folder_path, raster_files[0])) as src:\n",
    "    meta = src.meta.copy()\n",
    "    meta.update(dtype='uint8', count=1)  # Assuming predictions are categorical\n",
    "\n",
    "with rasterio.open('predictions.tif', 'w', **meta) as dst:\n",
    "    dst.write(predictions_reshaped.astype('uint8'), 1)\n"
   ]
  },
  {
   "cell_type": "code",
   "execution_count": null,
   "id": "40552dde",
   "metadata": {},
   "outputs": [],
   "source": []
  },
  {
   "cell_type": "code",
   "execution_count": 167,
   "id": "51858c1b",
   "metadata": {},
   "outputs": [],
   "source": [
    "######################################################################\n",
    "import geopandas as gpd\n",
    "from rasterio.mask import mask\n",
    "from rasterio.plot import show\n"
   ]
  },
  {
   "cell_type": "code",
   "execution_count": 205,
   "id": "0d81d0a9",
   "metadata": {},
   "outputs": [],
   "source": [
    "shapefile_path = 'Shape/tTatama.shp'  # Ruta al archivo shapefile\n",
    "raster_path = 'predictions.tif'       # Ruta al archivo raster\n",
    "# Leer el shapefile usando Geopandas\n",
    "shapes = gpd.read_file(shapefile_path)"
   ]
  },
  {
   "cell_type": "code",
   "execution_count": null,
   "id": "bc2fb5e9",
   "metadata": {},
   "outputs": [],
   "source": []
  },
  {
   "cell_type": "code",
   "execution_count": null,
   "id": "582f0d8a",
   "metadata": {},
   "outputs": [],
   "source": []
  },
  {
   "cell_type": "code",
   "execution_count": 215,
   "id": "bb099fad",
   "metadata": {},
   "outputs": [
    {
     "name": "stdout",
     "output_type": "stream",
     "text": [
      "Valores únicos en el raster: [0 1 2]\n"
     ]
    }
   ],
   "source": []
  },
  {
   "cell_type": "code",
   "execution_count": 216,
   "id": "2aa3adda",
   "metadata": {},
   "outputs": [],
   "source": [
    "\n"
   ]
  },
  {
   "cell_type": "code",
   "execution_count": null,
   "id": "f39b9b8f",
   "metadata": {},
   "outputs": [],
   "source": []
  },
  {
   "cell_type": "code",
   "execution_count": 226,
   "id": "f564fe00",
   "metadata": {},
   "outputs": [],
   "source": [
    "import geopandas as gpd\n",
    "\n",
    "import rasterio.mask\n",
    "import matplotlib.colors"
   ]
  },
  {
   "cell_type": "code",
   "execution_count": 225,
   "id": "e1ab4f69",
   "metadata": {},
   "outputs": [
    {
     "data": {
      "image/png": "[encoded data removed]",
      "text/plain": [
       "<Figure size 800x800 with 2 Axes>"
      ]
     },
     "metadata": {},
     "output_type": "display_data"
    }
   ],
   "source": [
    "nodata_value = -9999\n",
    "\n",
    "shapes = gpd.read_file('Shape/tTatama.shp')\n",
    "\n",
    "# Leer el raster de predicciones usando Rasterio\n",
    "with rasterio.open('predictions.tif') as src:\n",
    "    # Leer la primera banda del raster como un MaskedArray\n",
    "    raster_data = src.read(1, masked=True)\n",
    "    \n",
    "    # Crea una máscara para el raster basada en el shapefile, donde todo fuera de la geometría sea True\n",
    "    raster_mask, out_transform = rasterio.mask.mask(src, shapes.geometry, invert=True)\n",
    "    # Combina la máscara de la geometría con la máscara existente en los datos\n",
    "    raster_data.mask |= raster_mask[0]\n",
    "\n",
    "# Asignar el colormap manualmente\n",
    "cmap = plt.cm.viridis  # o cualquier otro colormap que prefieras\n",
    "cmap.set_bad('white')  # Asignar el color blanco para valores nodata/máscara\n",
    "\n",
    "# Crear la figura y los ejes para el mapa\n",
    "fig, ax = plt.subplots(figsize=(8, 8))\n",
    "img = ax.imshow(raster_data, cmap=cmap)\n",
    "\n",
    "# Agregar la barra de colores con etiquetas para las comunidades\n",
    "colorbar = fig.colorbar(img, ax=ax, fraction=0.036, pad=0.04, ticks=[0, 1, 2])\n",
    "colorbar.ax.set_yticklabels(['Comunidad A', 'Comunidad B', 'Comunidad C'])\n",
    "\n",
    "# Esconder los ejes\n",
    "ax.axis('off')\n",
    "\n",
    "# Agregar título\n",
    "ax.set_title('Distribución de Comunidades de Aves')\n",
    "\n",
    "# Mostrar el gráfico\n",
    "plt.show()"
   ]
  },
  {
   "cell_type": "code",
   "execution_count": null,
   "id": "eb1a0e60",
   "metadata": {},
   "outputs": [],
   "source": []
  }
 ],
 "metadata": {
  "kernelspec": {
   "display_name": "pyspark-en",
   "language": "python",
   "name": "pyspark-en"
  },
  "language_info": {
   "codemirror_mode": {
    "name": "ipython",
    "version": 3
   },
   "file_extension": ".py",
   "mimetype": "text/x-python",
   "name": "python",
   "nbconvert_exporter": "python",
   "pygments_lexer": "ipython3",
   "version": "3.12.2"
  }
 },
 "nbformat": 4,
 "nbformat_minor": 5
}
